{
 "cells": [
  {
   "cell_type": "code",
   "execution_count": null,
   "metadata": {},
   "outputs": [],
   "source": [
    "import pandas as pd\n",
    "pd.set_option('display.max_columns', None)\n",
    "pd.set_option('display.max_rows', None)"
   ]
  },
  {
   "cell_type": "code",
   "execution_count": null,
   "metadata": {},
   "outputs": [],
   "source": [
    "df_fundamentus = pd.read_csv('data/fundamentus_cleansed.csv')"
   ]
  },
  {
   "cell_type": "code",
   "execution_count": null,
   "metadata": {},
   "outputs": [],
   "source": [
    "df_fundamentus.head()"
   ]
  },
  {
   "cell_type": "code",
   "execution_count": null,
   "metadata": {},
   "outputs": [],
   "source": [
    "def porte_empresa(valor_mercado):\n",
    "    if valor_mercado <= 0.002:\n",
    "        return 'NANO'\n",
    "    elif valor_mercado > 0.002 and valor_mercado <= 1.2:\n",
    "        return 'MICRO'\n",
    "    elif valor_mercado > 1.2 and valor_mercado <= 8:\n",
    "        return 'SMALL'\n",
    "    elif valor_mercado > 8 and valor_mercado <= 40:\n",
    "        return 'MID'\n",
    "    elif valor_mercado > 40 and valor_mercado <= 80:\n",
    "        return 'BIG'\n",
    "    elif valor_mercado > 80:\n",
    "        return 'MEGA'\n",
    "\n",
    "def gera_roe(roe):\n",
    "    if roe >= 10:\n",
    "        return 'LUCRO'\n",
    "    else:\n",
    "        return 'PREJUIZO'\n",
    "\n",
    "    \n",
    "def gera_dy(div_yeld):\n",
    "    if div_yeld >= 5:\n",
    "        return 'BOM'\n",
    "    else:\n",
    "        return 'RUIM'\n",
    "\n",
    "    \n",
    "    \n",
    "df_fundamentus['porte_empresa'] = df_fundamentus['valor_mercado_bi'].apply(lambda x : porte_empresa(x))\n",
    "df_fundamentus['indicador_roe'] = df_fundamentus['roe'].apply(lambda x : gera_roe(x))\n",
    "df_fundamentus['indicador_dy'] = df_fundamentus['div_yeld'].apply(lambda x : gera_dy(x))"
   ]
  },
  {
   "cell_type": "code",
   "execution_count": null,
   "metadata": {},
   "outputs": [],
   "source": [
    "df_fundamentus.groupby('porte_empresa').count()"
   ]
  },
  {
   "cell_type": "markdown",
   "metadata": {},
   "source": [
    "#### **MEGA CORPS**"
   ]
  },
  {
   "cell_type": "code",
   "execution_count": null,
   "metadata": {},
   "outputs": [],
   "source": [
    "df_fundamentus[(df_fundamentus['porte_empresa'] == 'MEGA') & (df_fundamentus['p_l'] > 0) ][['papel','empresa','setor','valor_mercado_bi','p_l','div_yeld','roe','roic','indicador_roe','indicador_dy','lucro_liq_12M_mi']]"
   ]
  },
  {
   "cell_type": "markdown",
   "metadata": {},
   "source": [
    "### **BIG CORPS**"
   ]
  },
  {
   "cell_type": "code",
   "execution_count": null,
   "metadata": {},
   "outputs": [],
   "source": [
    "df_fundamentus[(df_fundamentus['porte_empresa'] == 'BIG') & (df_fundamentus['p_l'] > 0) ][['papel','empresa','setor','valor_mercado_bi','p_l','div_yeld','roe','roic','indicador_roe','indicador_dy','lucro_liq_12M_mi']]"
   ]
  },
  {
   "cell_type": "markdown",
   "metadata": {},
   "source": [
    "### **MID CORPS**"
   ]
  },
  {
   "cell_type": "code",
   "execution_count": null,
   "metadata": {},
   "outputs": [],
   "source": [
    "df_fundamentus[(df_fundamentus['porte_empresa'] == 'MID') & (df_fundamentus['p_l'] > 0) ][['papel','empresa','setor','valor_mercado_bi','p_l','div_yeld','roe','roic','indicador_roe','indicador_dy','lucro_liq_12M_mi']]"
   ]
  },
  {
   "cell_type": "markdown",
   "metadata": {},
   "source": [
    "### **SMALL CORPS**"
   ]
  },
  {
   "cell_type": "code",
   "execution_count": null,
   "metadata": {},
   "outputs": [],
   "source": [
    "df_fundamentus[(df_fundamentus['porte_empresa'] == 'SMALL') & (df_fundamentus['p_l'] > 0)][['papel','empresa','setor','valor_mercado_bi','p_l','lucro_liq_12M_mi']]"
   ]
  },
  {
   "cell_type": "markdown",
   "metadata": {},
   "source": [
    "### **MICRO CORPS**"
   ]
  },
  {
   "cell_type": "code",
   "execution_count": null,
   "metadata": {},
   "outputs": [],
   "source": [
    "df_fundamentus[(df_fundamentus['porte_empresa'] == 'MICRO') & (df_fundamentus['p_l'] > 0)][['papel','empresa','setor','valor_mercado_bi','p_l','lucro_liq_12M_mi']]"
   ]
  },
  {
   "cell_type": "markdown",
   "metadata": {},
   "source": [
    "##### **I- CARTEIRA DIVIDENDOS**"
   ]
  },
  {
   "cell_type": "code",
   "execution_count": null,
   "metadata": {},
   "outputs": [],
   "source": [
    "df_fundamentus[['setor','subsetor','div_yeld']].groupby(['setor','subsetor']).agg({'div_yeld':['min','mean','max','count']}).round(2).sort_values(('div_yeld',  'max'),ascending=False)"
   ]
  },
  {
   "cell_type": "markdown",
   "metadata": {},
   "source": [
    "##### **I- CARTEIRA SMALL CAPS**"
   ]
  },
  {
   "cell_type": "markdown",
   "metadata": {},
   "source": [
    "https://comoinvestir.thecap.com.br/como-investir-em-acoes/#Por_que_Investir_em_Acoes"
   ]
  },
  {
   "cell_type": "code",
   "execution_count": null,
   "metadata": {},
   "outputs": [],
   "source": []
  }
 ],
 "metadata": {
  "kernelspec": {
   "display_name": "Python 3",
   "language": "python",
   "name": "python3"
  },
  "language_info": {
   "codemirror_mode": {
    "name": "ipython",
    "version": 3
   },
   "file_extension": ".py",
   "mimetype": "text/x-python",
   "name": "python",
   "nbconvert_exporter": "python",
   "pygments_lexer": "ipython3",
   "version": "3.7.10"
  }
 },
 "nbformat": 4,
 "nbformat_minor": 4
}
