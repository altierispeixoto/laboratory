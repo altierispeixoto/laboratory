{
 "cells": [
  {
   "cell_type": "code",
   "execution_count": null,
   "metadata": {
    "executionInfo": {
     "elapsed": 17,
     "status": "ok",
     "timestamp": 1634316293520,
     "user": {
      "displayName": "Altieris Peixoto",
      "photoUrl": "https://lh3.googleusercontent.com/a/default-user=s64",
      "userId": "11822907508216508867"
     },
     "user_tz": 180
    },
    "id": "rxFBuIxXycfc"
   },
   "outputs": [],
   "source": [
    "import numpy as np\n",
    "import pandas as pd\n",
    "from pandas_datareader import data\n",
    "import matplotlib.pyplot as plt\n",
    "import yfinance as yfin\n",
    "\n",
    "%matplotlib inline"
   ]
  },
  {
   "cell_type": "code",
   "execution_count": null,
   "metadata": {
    "colab": {
     "base_uri": "https://localhost:8080/",
     "height": 283
    },
    "executionInfo": {
     "elapsed": 16,
     "status": "ok",
     "timestamp": 1634316293521,
     "user": {
      "displayName": "Altieris Peixoto",
      "photoUrl": "https://lh3.googleusercontent.com/a/default-user=s64",
      "userId": "11822907508216508867"
     },
     "user_tz": 180
    },
    "id": "OLRpQcvfyolU",
    "outputId": "707faced-0636-4a18-c0ae-f2be8e36da23"
   },
   "outputs": [],
   "source": [
    "yfin.pdr_override()\n",
    "\n",
    "# Read Data\n",
    "test = data.get_data_yahoo(['FB','TSLA'], start='2018-01-01', end='2019-12-31')\n",
    "test.head()"
   ]
  },
  {
   "cell_type": "code",
   "execution_count": null,
   "metadata": {
    "colab": {
     "base_uri": "https://localhost:8080/",
     "height": 235
    },
    "executionInfo": {
     "elapsed": 10,
     "status": "ok",
     "timestamp": 1634316293521,
     "user": {
      "displayName": "Altieris Peixoto",
      "photoUrl": "https://lh3.googleusercontent.com/a/default-user=s64",
      "userId": "11822907508216508867"
     },
     "user_tz": 180
    },
    "id": "wpFqPtNC0glB",
    "outputId": "bf70ab50-40a6-40d1-c85b-1da71b22314c"
   },
   "outputs": [],
   "source": [
    "# Closing price\n",
    "test = test['Adj Close']\n",
    "test.head()"
   ]
  },
  {
   "cell_type": "code",
   "execution_count": null,
   "metadata": {
    "colab": {
     "base_uri": "https://localhost:8080/"
    },
    "executionInfo": {
     "elapsed": 566,
     "status": "ok",
     "timestamp": 1634215693822,
     "user": {
      "displayName": "Altieris Peixoto",
      "photoUrl": "https://lh3.googleusercontent.com/a/default-user=s64",
      "userId": "11822907508216508867"
     },
     "user_tz": 180
    },
    "id": "5CuziPzY0pQJ",
    "outputId": "33008896-f0f7-4361-f5aa-d999d654f108"
   },
   "outputs": [],
   "source": [
    "### Log is time additive\n",
    "from math import log as ln\n",
    "\n",
    "p1 = 100\n",
    "p2 = 110 \n",
    "p3 = 120\n",
    "\n",
    "print(ln(p2/p1)) #= ln(110/100) = 9.53%\n",
    "\n",
    "print(ln(p3/p2))\n",
    "\n",
    "\n",
    "print(ln(p2/p1) + ln(p3/p2))\n",
    "\n",
    "print(ln(p3/p1))\n"
   ]
  },
  {
   "cell_type": "code",
   "execution_count": null,
   "metadata": {
    "colab": {
     "base_uri": "https://localhost:8080/"
    },
    "executionInfo": {
     "elapsed": 299,
     "status": "ok",
     "timestamp": 1634216112917,
     "user": {
      "displayName": "Altieris Peixoto",
      "photoUrl": "https://lh3.googleusercontent.com/a/default-user=s64",
      "userId": "11822907508216508867"
     },
     "user_tz": 180
    },
    "id": "-d0XL9L_3t2f",
    "outputId": "5537b547-7ac9-4568-82b7-db090ebd9fee"
   },
   "outputs": [],
   "source": [
    "tesla = test['TSLA'].pct_change().apply(lambda x: ln(1+x))\n",
    "tesla.head()"
   ]
  },
  {
   "cell_type": "code",
   "execution_count": null,
   "metadata": {
    "colab": {
     "base_uri": "https://localhost:8080/"
    },
    "executionInfo": {
     "elapsed": 302,
     "status": "ok",
     "timestamp": 1634216146709,
     "user": {
      "displayName": "Altieris Peixoto",
      "photoUrl": "https://lh3.googleusercontent.com/a/default-user=s64",
      "userId": "11822907508216508867"
     },
     "user_tz": 180
    },
    "id": "y1uzkP7z327b",
    "outputId": "be42846d-1168-4799-cbf7-74c8d5e54343"
   },
   "outputs": [],
   "source": [
    "# Variance\n",
    "var_tesla = tesla.var()\n",
    "var_tesla"
   ]
  },
  {
   "cell_type": "code",
   "execution_count": null,
   "metadata": {
    "colab": {
     "base_uri": "https://localhost:8080/"
    },
    "executionInfo": {
     "elapsed": 280,
     "status": "ok",
     "timestamp": 1634216232434,
     "user": {
      "displayName": "Altieris Peixoto",
      "photoUrl": "https://lh3.googleusercontent.com/a/default-user=s64",
      "userId": "11822907508216508867"
     },
     "user_tz": 180
    },
    "id": "hkARzoqk4LyD",
    "outputId": "3e9a2de1-21ad-4e45-be59-de79ede3c790"
   },
   "outputs": [],
   "source": [
    "# Log of Percentage change for Facebook\n",
    "fb = test['FB'].pct_change().apply(lambda x: np.log(1+x))\n",
    "fb.head()"
   ]
  },
  {
   "cell_type": "code",
   "execution_count": null,
   "metadata": {
    "colab": {
     "base_uri": "https://localhost:8080/"
    },
    "executionInfo": {
     "elapsed": 270,
     "status": "ok",
     "timestamp": 1634216240519,
     "user": {
      "displayName": "Altieris Peixoto",
      "photoUrl": "https://lh3.googleusercontent.com/a/default-user=s64",
      "userId": "11822907508216508867"
     },
     "user_tz": 180
    },
    "id": "oIYYLlRK4M01",
    "outputId": "2d733058-ca26-47a0-f891-e4d4c8c3957e"
   },
   "outputs": [],
   "source": [
    "# Variance\n",
    "var_fb = fb.var()\n",
    "var_fb"
   ]
  },
  {
   "cell_type": "code",
   "execution_count": null,
   "metadata": {
    "colab": {
     "base_uri": "https://localhost:8080/"
    },
    "executionInfo": {
     "elapsed": 318,
     "status": "ok",
     "timestamp": 1634216386751,
     "user": {
      "displayName": "Altieris Peixoto",
      "photoUrl": "https://lh3.googleusercontent.com/a/default-user=s64",
      "userId": "11822907508216508867"
     },
     "user_tz": 180
    },
    "id": "pS5Cwj-t4PMl",
    "outputId": "3e7b4850-53b7-452b-ea2b-7e26679e08a5"
   },
   "outputs": [],
   "source": [
    "# Volatility\n",
    "tesla_vol = np.sqrt(var_tesla * 250)\n",
    "fb_vol = np.sqrt(var_fb * 250)\n",
    "tesla_vol, fb_vol"
   ]
  },
  {
   "cell_type": "code",
   "execution_count": null,
   "metadata": {
    "colab": {
     "base_uri": "https://localhost:8080/",
     "height": 297
    },
    "executionInfo": {
     "elapsed": 249,
     "status": "ok",
     "timestamp": 1634216409583,
     "user": {
      "displayName": "Altieris Peixoto",
      "photoUrl": "https://lh3.googleusercontent.com/a/default-user=s64",
      "userId": "11822907508216508867"
     },
     "user_tz": 180
    },
    "id": "Odql2JXo40zt",
    "outputId": "e7e9f684-47bf-4851-819a-577be4f66ac0"
   },
   "outputs": [],
   "source": [
    "test.pct_change().apply(lambda x: np.log(1+x)).std().apply(lambda x: x*np.sqrt(250)).plot(kind='bar')"
   ]
  },
  {
   "cell_type": "code",
   "execution_count": null,
   "metadata": {
    "colab": {
     "base_uri": "https://localhost:8080/",
     "height": 235
    },
    "executionInfo": {
     "elapsed": 271,
     "status": "ok",
     "timestamp": 1634216742909,
     "user": {
      "displayName": "Altieris Peixoto",
      "photoUrl": "https://lh3.googleusercontent.com/a/default-user=s64",
      "userId": "11822907508216508867"
     },
     "user_tz": 180
    },
    "id": "fD9Zh-iR6Ib1",
    "outputId": "7bdc7862-852e-4a6f-f050-f2ad2c97e041"
   },
   "outputs": [],
   "source": [
    "# Log of Percentage change\n",
    "test1 = test.pct_change().apply(lambda x: np.log(1+x))\n",
    "test1.head()"
   ]
  },
  {
   "cell_type": "code",
   "execution_count": null,
   "metadata": {
    "colab": {
     "base_uri": "https://localhost:8080/"
    },
    "executionInfo": {
     "elapsed": 5,
     "status": "ok",
     "timestamp": 1634216743670,
     "user": {
      "displayName": "Altieris Peixoto",
      "photoUrl": "https://lh3.googleusercontent.com/a/default-user=s64",
      "userId": "11822907508216508867"
     },
     "user_tz": 180
    },
    "id": "_OXkUEes5E5r",
    "outputId": "ab31c15c-2a64-431d-d55f-d8266171b043"
   },
   "outputs": [],
   "source": [
    "# Covariance\n",
    "test1['TSLA'].cov(test1['FB'])"
   ]
  },
  {
   "cell_type": "code",
   "execution_count": null,
   "metadata": {
    "colab": {
     "base_uri": "https://localhost:8080/"
    },
    "executionInfo": {
     "elapsed": 237,
     "status": "ok",
     "timestamp": 1634216849608,
     "user": {
      "displayName": "Altieris Peixoto",
      "photoUrl": "https://lh3.googleusercontent.com/a/default-user=s64",
      "userId": "11822907508216508867"
     },
     "user_tz": 180
    },
    "id": "Xs75zmzn6PD5",
    "outputId": "3a064c11-c77b-4738-ed4c-874d84045859"
   },
   "outputs": [],
   "source": [
    "test1['TSLA'].corr(test1['FB'])"
   ]
  },
  {
   "cell_type": "code",
   "execution_count": null,
   "metadata": {
    "colab": {
     "base_uri": "https://localhost:8080/",
     "height": 235
    },
    "executionInfo": {
     "elapsed": 241,
     "status": "ok",
     "timestamp": 1634217053516,
     "user": {
      "displayName": "Altieris Peixoto",
      "photoUrl": "https://lh3.googleusercontent.com/a/default-user=s64",
      "userId": "11822907508216508867"
     },
     "user_tz": 180
    },
    "id": "GdgBumu97UbR",
    "outputId": "59d34413-6fe8-48aa-e524-da5cfeab780d"
   },
   "outputs": [],
   "source": [
    "test2 = test.pct_change().apply(lambda x: np.log(1+x))\n",
    "test2.head()"
   ]
  },
  {
   "cell_type": "code",
   "execution_count": null,
   "metadata": {
    "colab": {
     "base_uri": "https://localhost:8080/"
    },
    "executionInfo": {
     "elapsed": 3,
     "status": "ok",
     "timestamp": 1634217053894,
     "user": {
      "displayName": "Altieris Peixoto",
      "photoUrl": "https://lh3.googleusercontent.com/a/default-user=s64",
      "userId": "11822907508216508867"
     },
     "user_tz": 180
    },
    "id": "S1Cqb5r16kFy",
    "outputId": "5857dd83-d57c-484e-9707-cfc3f2909591"
   },
   "outputs": [],
   "source": [
    "w = [0.2, 0.8]\n",
    "e_r_ind = test2.mean()\n",
    "e_r_ind"
   ]
  },
  {
   "cell_type": "code",
   "execution_count": null,
   "metadata": {
    "colab": {
     "base_uri": "https://localhost:8080/"
    },
    "executionInfo": {
     "elapsed": 232,
     "status": "ok",
     "timestamp": 1634217152438,
     "user": {
      "displayName": "Altieris Peixoto",
      "photoUrl": "https://lh3.googleusercontent.com/a/default-user=s64",
      "userId": "11822907508216508867"
     },
     "user_tz": 180
    },
    "id": "zT-_b8lu7Vtv",
    "outputId": "33ed5a59-2d8a-4dba-b4ef-6cb217d74532"
   },
   "outputs": [],
   "source": [
    "# Total expected return\n",
    "e_r = (e_r_ind*w).sum()\n",
    "e_r"
   ]
  },
  {
   "cell_type": "code",
   "execution_count": null,
   "metadata": {
    "colab": {
     "base_uri": "https://localhost:8080/",
     "height": 388
    },
    "executionInfo": {
     "elapsed": 926,
     "status": "ok",
     "timestamp": 1634316294438,
     "user": {
      "displayName": "Altieris Peixoto",
      "photoUrl": "https://lh3.googleusercontent.com/a/default-user=s64",
      "userId": "11822907508216508867"
     },
     "user_tz": 180
    },
    "id": "2lo5iw7e8EQ-",
    "outputId": "aafcae71-e2a0-416b-ced8-494ff503ab59"
   },
   "outputs": [],
   "source": [
    "# Import data\n",
    "df = data.get_data_yahoo(['HBOR3.SA','FLRY3.SA','MGLU3.SA','WEGE3.SA'], start='2017-01-01', end='2021-10-20')\n",
    "df.tail()"
   ]
  },
  {
   "cell_type": "code",
   "execution_count": null,
   "metadata": {
    "colab": {
     "base_uri": "https://localhost:8080/",
     "height": 235
    },
    "executionInfo": {
     "elapsed": 11,
     "status": "ok",
     "timestamp": 1634316294439,
     "user": {
      "displayName": "Altieris Peixoto",
      "photoUrl": "https://lh3.googleusercontent.com/a/default-user=s64",
      "userId": "11822907508216508867"
     },
     "user_tz": 180
    },
    "id": "u_5R-u468PAO",
    "outputId": "d5ea6c2b-884c-45d9-c6cf-6e853ec15c48"
   },
   "outputs": [],
   "source": [
    "# Closing price\n",
    "df = df['Adj Close']\n",
    "df.tail()"
   ]
  },
  {
   "cell_type": "code",
   "execution_count": null,
   "metadata": {
    "colab": {
     "base_uri": "https://localhost:8080/",
     "height": 173
    },
    "executionInfo": {
     "elapsed": 243,
     "status": "ok",
     "timestamp": 1634316297216,
     "user": {
      "displayName": "Altieris Peixoto",
      "photoUrl": "https://lh3.googleusercontent.com/a/default-user=s64",
      "userId": "11822907508216508867"
     },
     "user_tz": 180
    },
    "id": "U-aJzxlG8P8V",
    "outputId": "e3f5a178-9353-43d9-9c6d-e4bdf53154d2"
   },
   "outputs": [],
   "source": [
    "# Log of percentage change\n",
    "cov_matrix = df.pct_change().apply(lambda x: np.log(1+x)).cov()\n",
    "cov_matrix"
   ]
  },
  {
   "cell_type": "code",
   "execution_count": null,
   "metadata": {
    "colab": {
     "base_uri": "https://localhost:8080/",
     "height": 173
    },
    "executionInfo": {
     "elapsed": 505,
     "status": "ok",
     "timestamp": 1634316313000,
     "user": {
      "displayName": "Altieris Peixoto",
      "photoUrl": "https://lh3.googleusercontent.com/a/default-user=s64",
      "userId": "11822907508216508867"
     },
     "user_tz": 180
    },
    "id": "sVW6UWtg8kag",
    "outputId": "f3b4bea5-6e50-4ab2-9a60-4412a0ed72f4"
   },
   "outputs": [],
   "source": [
    "corr_matrix = df.pct_change().apply(lambda x: np.log(1+x)).corr()\n",
    "corr_matrix"
   ]
  },
  {
   "cell_type": "code",
   "execution_count": null,
   "metadata": {
    "colab": {
     "base_uri": "https://localhost:8080/"
    },
    "executionInfo": {
     "elapsed": 5,
     "status": "ok",
     "timestamp": 1634316316755,
     "user": {
      "displayName": "Altieris Peixoto",
      "photoUrl": "https://lh3.googleusercontent.com/a/default-user=s64",
      "userId": "11822907508216508867"
     },
     "user_tz": 180
    },
    "id": "1yfF79bn8lJS",
    "outputId": "974a4db8-886c-4348-d70d-e6bd29a41fdc"
   },
   "outputs": [],
   "source": [
    "# Yearly returns for individual companies\n",
    "ind_er = df.resample('Y').last().pct_change().mean()\n",
    "ind_er"
   ]
  },
  {
   "cell_type": "code",
   "execution_count": null,
   "metadata": {
    "colab": {
     "base_uri": "https://localhost:8080/"
    },
    "executionInfo": {
     "elapsed": 410,
     "status": "ok",
     "timestamp": 1634302585717,
     "user": {
      "displayName": "Altieris Peixoto",
      "photoUrl": "https://lh3.googleusercontent.com/a/default-user=s64",
      "userId": "11822907508216508867"
     },
     "user_tz": 180
    },
    "id": "aV39CYTu8w3W",
    "outputId": "1f6e9517-56a1-4cd3-ab7b-f69dddde4efc"
   },
   "outputs": [],
   "source": [
    "# Portfolio returns\n",
    "w = [0.4, 0.3, 0.2]\n",
    "port_er = (w*ind_er).sum()\n",
    "port_er"
   ]
  },
  {
   "cell_type": "code",
   "execution_count": null,
   "metadata": {
    "colab": {
     "base_uri": "https://localhost:8080/"
    },
    "executionInfo": {
     "elapsed": 510,
     "status": "ok",
     "timestamp": 1634302587573,
     "user": {
      "displayName": "Altieris Peixoto",
      "photoUrl": "https://lh3.googleusercontent.com/a/default-user=s64",
      "userId": "11822907508216508867"
     },
     "user_tz": 180
    },
    "id": "SQygCFNp8zzz",
    "outputId": "3ec105a9-2fdb-45fd-c250-d4ea039b341d"
   },
   "outputs": [],
   "source": [
    "# Volatility is given by the annual standard deviation. We multiply by 250 because there are 250 trading days/year.\n",
    "ann_sd = df.pct_change().apply(lambda x: np.log(1+x)).std().apply(lambda x: x*np.sqrt(250))\n",
    "ann_sd"
   ]
  },
  {
   "cell_type": "code",
   "execution_count": null,
   "metadata": {
    "colab": {
     "base_uri": "https://localhost:8080/",
     "height": 111
    },
    "executionInfo": {
     "elapsed": 421,
     "status": "ok",
     "timestamp": 1634301316173,
     "user": {
      "displayName": "Altieris Peixoto",
      "photoUrl": "https://lh3.googleusercontent.com/a/default-user=s64",
      "userId": "11822907508216508867"
     },
     "user_tz": 180
    },
    "id": "clPlC8B481mD",
    "outputId": "a2514c19-66f2-4d43-b979-5a2c4d7be3fa"
   },
   "outputs": [],
   "source": [
    "assets = pd.concat([ind_er, ann_sd], axis=1) # Creating a table for visualising returns and volatility of assets\n",
    "assets.columns = ['Returns', 'Volatility']\n",
    "assets"
   ]
  },
  {
   "cell_type": "code",
   "execution_count": null,
   "metadata": {
    "id": "j3C2BIAE83_0"
   },
   "outputs": [],
   "source": [
    "p_ret = [] # Define an empty array for portfolio returns\n",
    "p_vol = [] # Define an empty array for portfolio volatility\n",
    "p_weights = [] # Define an empty array for asset weights\n",
    "\n",
    "num_assets = len(df.columns)\n",
    "num_portfolios = 10000\n",
    "for portfolio in range(num_portfolios):\n",
    "    weights = np.random.random(num_assets)\n",
    "    weights = weights/np.sum(weights)\n",
    "    p_weights.append(weights)\n",
    "    returns = np.dot(weights, ind_er) # Returns are the product of individual expected returns of asset and its \n",
    "                                      # weights \n",
    "    p_ret.append(returns)\n",
    "    var = cov_matrix.mul(weights, axis=0).mul(weights, axis=1).sum().sum()# Portfolio Variance\n",
    "    sd = np.sqrt(var) # Daily standard deviation\n",
    "    ann_sd = sd*np.sqrt(250) # Annual standard deviation = volatility\n",
    "    p_vol.append(ann_sd)"
   ]
  },
  {
   "cell_type": "code",
   "execution_count": null,
   "metadata": {
    "colab": {
     "base_uri": "https://localhost:8080/",
     "height": 204
    },
    "executionInfo": {
     "elapsed": 26,
     "status": "ok",
     "timestamp": 1634301340585,
     "user": {
      "displayName": "Altieris Peixoto",
      "photoUrl": "https://lh3.googleusercontent.com/a/default-user=s64",
      "userId": "11822907508216508867"
     },
     "user_tz": 180
    },
    "id": "dKVXFtwp8_nC",
    "outputId": "a4f05391-8ced-4b47-da9d-0be0a26d9a46"
   },
   "outputs": [],
   "source": [
    "data = {'Returns':p_ret, 'Volatility':p_vol}\n",
    "\n",
    "for counter, symbol in enumerate(df.columns.tolist()):\n",
    "    #print(counter, symbol)\n",
    "    data[symbol+' weight'] = [w[counter] for w in p_weights]\n",
    "portfolios  = pd.DataFrame(data)\n",
    "portfolios.head() # Dataframe of the 10000 portfolios created"
   ]
  },
  {
   "cell_type": "code",
   "execution_count": null,
   "metadata": {
    "colab": {
     "base_uri": "https://localhost:8080/",
     "height": 623
    },
    "executionInfo": {
     "elapsed": 474,
     "status": "ok",
     "timestamp": 1634301428530,
     "user": {
      "displayName": "Altieris Peixoto",
      "photoUrl": "https://lh3.googleusercontent.com/a/default-user=s64",
      "userId": "11822907508216508867"
     },
     "user_tz": 180
    },
    "id": "hBVrHOKA9A0J",
    "outputId": "29b8f4bf-9735-41db-f996-b342ac244902"
   },
   "outputs": [],
   "source": [
    "portfolios.plot.scatter(x='Volatility', y='Returns', marker='o', s=10, alpha=0.3, grid=True, figsize=[10,10])"
   ]
  },
  {
   "cell_type": "code",
   "execution_count": null,
   "metadata": {
    "colab": {
     "base_uri": "https://localhost:8080/"
    },
    "executionInfo": {
     "elapsed": 374,
     "status": "ok",
     "timestamp": 1634301468364,
     "user": {
      "displayName": "Altieris Peixoto",
      "photoUrl": "https://lh3.googleusercontent.com/a/default-user=s64",
      "userId": "11822907508216508867"
     },
     "user_tz": 180
    },
    "id": "uxU0ZxbT9DrU",
    "outputId": "8759ad4c-6f68-4dd1-ee53-28184e189759"
   },
   "outputs": [],
   "source": [
    "min_vol_port = portfolios.iloc[portfolios['Volatility'].idxmin()]\n",
    "# idxmin() gives us the minimum value in the column specified.                               \n",
    "min_vol_port"
   ]
  },
  {
   "cell_type": "code",
   "execution_count": null,
   "metadata": {
    "colab": {
     "base_uri": "https://localhost:8080/",
     "height": 609
    },
    "executionInfo": {
     "elapsed": 532,
     "status": "ok",
     "timestamp": 1634301471026,
     "user": {
      "displayName": "Altieris Peixoto",
      "photoUrl": "https://lh3.googleusercontent.com/a/default-user=s64",
      "userId": "11822907508216508867"
     },
     "user_tz": 180
    },
    "id": "WLL0jrox9EGg",
    "outputId": "bdaf55f0-d057-41c8-cec7-8c5fa86dbb07"
   },
   "outputs": [],
   "source": [
    "# plotting the minimum volatility portfolio\n",
    "plt.subplots(figsize=[10,10])\n",
    "plt.scatter(portfolios['Volatility'], portfolios['Returns'],marker='o', s=10, alpha=0.3)\n",
    "plt.scatter(min_vol_port[1], min_vol_port[0], color='r', marker='*', s=500)"
   ]
  },
  {
   "cell_type": "code",
   "execution_count": null,
   "metadata": {
    "colab": {
     "base_uri": "https://localhost:8080/"
    },
    "executionInfo": {
     "elapsed": 421,
     "status": "ok",
     "timestamp": 1634301475775,
     "user": {
      "displayName": "Altieris Peixoto",
      "photoUrl": "https://lh3.googleusercontent.com/a/default-user=s64",
      "userId": "11822907508216508867"
     },
     "user_tz": 180
    },
    "id": "VRQRdYsy9F9e",
    "outputId": "e8fd309b-472b-4264-f162-fbb556afb9f7"
   },
   "outputs": [],
   "source": [
    "# Finding the optimal portfolio\n",
    "rf = 0.01 # risk factor\n",
    "optimal_risky_port = portfolios.iloc[((portfolios['Returns']-rf)/portfolios['Volatility']).idxmax()]\n",
    "optimal_risky_port"
   ]
  },
  {
   "cell_type": "code",
   "execution_count": null,
   "metadata": {
    "colab": {
     "base_uri": "https://localhost:8080/",
     "height": 609
    },
    "executionInfo": {
     "elapsed": 5,
     "status": "ok",
     "timestamp": 1634301477538,
     "user": {
      "displayName": "Altieris Peixoto",
      "photoUrl": "https://lh3.googleusercontent.com/a/default-user=s64",
      "userId": "11822907508216508867"
     },
     "user_tz": 180
    },
    "id": "70DMn_6I9IB3",
    "outputId": "67565ea7-37bd-45de-98da-582138c86156"
   },
   "outputs": [],
   "source": [
    "# Plotting optimal portfolio\n",
    "plt.subplots(figsize=(10, 10))\n",
    "plt.scatter(portfolios['Volatility'], portfolios['Returns'],marker='o', s=10, alpha=0.3)\n",
    "plt.scatter(min_vol_port[1], min_vol_port[0], color='r', marker='*', s=500)\n",
    "plt.scatter(optimal_risky_port[1], optimal_risky_port[0], color='g', marker='*', s=500)\n"
   ]
  },
  {
   "cell_type": "code",
   "execution_count": null,
   "metadata": {
    "id": "bmhq40UK9J7Z"
   },
   "outputs": [],
   "source": []
  },
  {
   "cell_type": "markdown",
   "metadata": {
    "id": "EeJEADFIyvI6"
   },
   "source": [
    "https://www.machinelearningplus.com/machine-learning/portfolio-optimization-python-example/#1-what-is-portfolio-optimization-"
   ]
  }
 ],
 "metadata": {
  "colab": {
   "authorship_tag": "ABX9TyOqHkhNhuzlZTswu3MJOGsI",
   "collapsed_sections": [],
   "name": "portifolio-optimization.ipynb",
   "provenance": []
  },
  "interpreter": {
   "hash": "3d4f53146667bac961351889603a77f79f01eeaf7c14782091060afd96db22b8"
  },
  "kernelspec": {
   "display_name": "Python 3.9.7 64-bit ('poetry-env': conda)",
   "name": "python3"
  },
  "language_info": {
   "codemirror_mode": {
    "name": "ipython",
    "version": 3
   },
   "file_extension": ".py",
   "mimetype": "text/x-python",
   "name": "python",
   "nbconvert_exporter": "python",
   "pygments_lexer": "ipython3",
   "version": "3.9.7"
  }
 },
 "nbformat": 4,
 "nbformat_minor": 0
}
