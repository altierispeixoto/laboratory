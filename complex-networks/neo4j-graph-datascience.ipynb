{
 "cells": [
  {
   "cell_type": "markdown",
   "id": "5a6f8b0d-9af3-4f76-afa7-a06c8520a16c",
   "metadata": {},
   "source": [
    "# Hands ON"
   ]
  },
  {
   "cell_type": "markdown",
   "id": "9dd6caad-24c0-45cf-bb0e-d8f4635c6d55",
   "metadata": {},
   "source": [
    "<img src=\"images/neo4j-logo.svg\" width=100px height=100px /> "
   ]
  },
  {
   "cell_type": "code",
   "execution_count": 41,
   "id": "86ad5c23-a9ad-4615-a763-dc6e851da852",
   "metadata": {},
   "outputs": [],
   "source": [
    "!pip install -q py2neo pandas matplotlib sklearn"
   ]
  },
  {
   "cell_type": "code",
   "execution_count": 21,
   "id": "27743cbc-31ac-4758-be9e-67aab61c35fa",
   "metadata": {},
   "outputs": [],
   "source": [
    "from py2neo import Graph\n",
    "graph = Graph(\"bolt://localhost:11003\", auth=(\"neo4j\", \"got\"))\n",
    "\n",
    "import pandas as pd\n",
    "pd.set_option('display.max_rows', 500)\n",
    "pd.set_option('display.max_columns', None)\n",
    "pd.set_option('display.width', None)"
   ]
  },
  {
   "cell_type": "markdown",
   "id": "86ebe7be-e18d-4961-a76d-36e8a49360b8",
   "metadata": {},
   "source": [
    "---"
   ]
  },
  {
   "cell_type": "markdown",
   "id": "b8b03474-21b2-4990-b88e-c8a6cb68f56a",
   "metadata": {},
   "source": [
    "## Neo4j & Graph Data Science Library & Game of Thrones\n",
    "\n",
    "A rede de Game of Thrones é um grafo **monopartido** contendo nós de personagens e suas interações nos programas de TV.\n",
    "**As interações entre os personagens são agrupadas por temporadas da série.**\n",
    "\n",
    "\n",
    "Por exemplo, um relacionamento **INTERACTS_SEASON1** representa uma interação entre personagens na primeira temporada,\n",
    "**INTERACTS_SEASON2** significa interação na segunda temporada e assim por diante.  \n",
    "O peso do relacionamento representa a força da interação, e porque dois personagens podem interagir em mais de uma única temporada, estamos lidando com um **multigrafo ponderado.**\n",
    "\n",
    "<img src=\"images/got.png\" width=1200px height=1200px /> \n"
   ]
  },
  {
   "cell_type": "markdown",
   "id": "a6d7469f-0e07-45e4-b0ae-f128b01e3390",
   "metadata": {},
   "source": [
    "---"
   ]
  },
  {
   "cell_type": "markdown",
   "id": "bb62ba44-e7c5-483e-8b9b-adf895c6b364",
   "metadata": {},
   "source": [
    "### Criação do banco de dados"
   ]
  },
  {
   "cell_type": "markdown",
   "id": "135282cf-9df5-4acd-8ca7-ed00bc9facb3",
   "metadata": {},
   "source": [
    "``` cypher\n",
    "CREATE CONSTRAINT ON (c:Character) ASSERT c.id IS UNIQUE;\n",
    "\n",
    "UNWIND range(1,7) AS season\n",
    "LOAD CSV WITH HEADERS FROM \"https://github.com/neo4j-apps/neuler/raw/master/sample-data/got/got-s\" + season + \"-nodes.csv\" AS row\n",
    "MERGE (c:Character {id: row.Id})\n",
    "ON CREATE SET c.name = row.Label;\n",
    "\n",
    "UNWIND range(1,7) AS season\n",
    "LOAD CSV WITH HEADERS FROM \"https://github.com/neo4j-apps/neuler/raw/master/sample-data/got/got-s\" + season + \"-edges.csv\" AS row\n",
    "MATCH (source:Character {id: row.Source})\n",
    "MATCH (target:Character {id: row.Target})\n",
    "CALL apoc.merge.relationship(source, \"INTERACTS_SEASON\" + season, {}, {}, target) YIELD rel\n",
    "SET rel.weight = toInteger(row.Weight);\n",
    "```"
   ]
  },
  {
   "cell_type": "markdown",
   "id": "bc2557c2-1f10-4e1b-8a80-df9e25d6a7b1",
   "metadata": {},
   "source": [
    "---"
   ]
  },
  {
   "cell_type": "markdown",
   "id": "69a6b348-35a6-4012-9f55-0f71b1e6d253",
   "metadata": {},
   "source": [
    "## Cypher"
   ]
  },
  {
   "cell_type": "code",
   "execution_count": 100,
   "id": "b2e3266a-8398-43d1-a2bd-7af1cad4d811",
   "metadata": {},
   "outputs": [],
   "source": [
    "query = \"\"\"\n",
    "Match(c:Character {id:'NED'})-[r:INTERACTS_SEASON1]->(c1:Character) \n",
    "return c.name as character1, \n",
    "       r.weight as nr_interactions,\n",
    "       c1.name as character2 \n",
    "       order by nr_interactions DESC\n",
    "       LIMIT 10\n",
    "\"\"\"\n",
    "\n",
    "relationships = graph.run(query).to_data_frame()"
   ]
  },
  {
   "cell_type": "code",
   "execution_count": 101,
   "id": "3170550a-bf3d-4c5a-9d6e-02cab8a7ac2d",
   "metadata": {},
   "outputs": [
    {
     "data": {
      "text/html": [
       "<div>\n",
       "<style scoped>\n",
       "    .dataframe tbody tr th:only-of-type {\n",
       "        vertical-align: middle;\n",
       "    }\n",
       "\n",
       "    .dataframe tbody tr th {\n",
       "        vertical-align: top;\n",
       "    }\n",
       "\n",
       "    .dataframe thead th {\n",
       "        text-align: right;\n",
       "    }\n",
       "</style>\n",
       "<table border=\"1\" class=\"dataframe\">\n",
       "  <thead>\n",
       "    <tr style=\"text-align: right;\">\n",
       "      <th></th>\n",
       "      <th>character1</th>\n",
       "      <th>nr_interactions</th>\n",
       "      <th>character2</th>\n",
       "    </tr>\n",
       "  </thead>\n",
       "  <tbody>\n",
       "    <tr>\n",
       "      <th>0</th>\n",
       "      <td>Ned</td>\n",
       "      <td>192</td>\n",
       "      <td>Robert</td>\n",
       "    </tr>\n",
       "    <tr>\n",
       "      <th>1</th>\n",
       "      <td>Ned</td>\n",
       "      <td>96</td>\n",
       "      <td>Varys</td>\n",
       "    </tr>\n",
       "    <tr>\n",
       "      <th>2</th>\n",
       "      <td>Ned</td>\n",
       "      <td>68</td>\n",
       "      <td>Pycelle</td>\n",
       "    </tr>\n",
       "    <tr>\n",
       "      <th>3</th>\n",
       "      <td>Ned</td>\n",
       "      <td>49</td>\n",
       "      <td>Sansa</td>\n",
       "    </tr>\n",
       "    <tr>\n",
       "      <th>4</th>\n",
       "      <td>Ned</td>\n",
       "      <td>30</td>\n",
       "      <td>Renly</td>\n",
       "    </tr>\n",
       "    <tr>\n",
       "      <th>5</th>\n",
       "      <td>Ned</td>\n",
       "      <td>23</td>\n",
       "      <td>Robb</td>\n",
       "    </tr>\n",
       "    <tr>\n",
       "      <th>6</th>\n",
       "      <td>Ned</td>\n",
       "      <td>15</td>\n",
       "      <td>Yoren</td>\n",
       "    </tr>\n",
       "    <tr>\n",
       "      <th>7</th>\n",
       "      <td>Ned</td>\n",
       "      <td>13</td>\n",
       "      <td>Theon</td>\n",
       "    </tr>\n",
       "    <tr>\n",
       "      <th>8</th>\n",
       "      <td>Ned</td>\n",
       "      <td>11</td>\n",
       "      <td>Tywin</td>\n",
       "    </tr>\n",
       "    <tr>\n",
       "      <th>9</th>\n",
       "      <td>Ned</td>\n",
       "      <td>11</td>\n",
       "      <td>Tyrion</td>\n",
       "    </tr>\n",
       "  </tbody>\n",
       "</table>\n",
       "</div>"
      ],
      "text/plain": [
       "  character1  nr_interactions character2\n",
       "0        Ned              192     Robert\n",
       "1        Ned               96      Varys\n",
       "2        Ned               68    Pycelle\n",
       "3        Ned               49      Sansa\n",
       "4        Ned               30      Renly\n",
       "5        Ned               23       Robb\n",
       "6        Ned               15      Yoren\n",
       "7        Ned               13      Theon\n",
       "8        Ned               11      Tywin\n",
       "9        Ned               11     Tyrion"
      ]
     },
     "execution_count": 101,
     "metadata": {},
     "output_type": "execute_result"
    }
   ],
   "source": [
    "relationships"
   ]
  },
  {
   "cell_type": "markdown",
   "id": "cbfc8074-77e6-438d-baa3-43ec132a197b",
   "metadata": {},
   "source": [
    "---"
   ]
  },
  {
   "cell_type": "markdown",
   "id": "24cb97f6-e69d-4d74-9edc-27f16d0c0edc",
   "metadata": {},
   "source": [
    "## Graph Data Science Library"
   ]
  },
  {
   "cell_type": "code",
   "execution_count": 122,
   "id": "32f1bd12-bd75-4500-8300-b2ac80626d1e",
   "metadata": {},
   "outputs": [
    {
     "data": {
      "text/html": [
       "<div>\n",
       "<style scoped>\n",
       "    .dataframe tbody tr th:only-of-type {\n",
       "        vertical-align: middle;\n",
       "    }\n",
       "\n",
       "    .dataframe tbody tr th {\n",
       "        vertical-align: top;\n",
       "    }\n",
       "\n",
       "    .dataframe thead th {\n",
       "        text-align: right;\n",
       "    }\n",
       "</style>\n",
       "<table border=\"1\" class=\"dataframe\">\n",
       "  <thead>\n",
       "    <tr style=\"text-align: right;\">\n",
       "      <th></th>\n",
       "      <th>graphName</th>\n",
       "      <th>nodeCount</th>\n",
       "      <th>relationshipCount</th>\n",
       "      <th>createMillis</th>\n",
       "    </tr>\n",
       "  </thead>\n",
       "  <tbody>\n",
       "    <tr>\n",
       "      <th>0</th>\n",
       "      <td>got</td>\n",
       "      <td>400</td>\n",
       "      <td>550</td>\n",
       "      <td>6</td>\n",
       "    </tr>\n",
       "  </tbody>\n",
       "</table>\n",
       "</div>"
      ],
      "text/plain": [
       "  graphName  nodeCount  relationshipCount  createMillis\n",
       "0       got        400                550             6"
      ]
     },
     "execution_count": 122,
     "metadata": {},
     "output_type": "execute_result"
    }
   ],
   "source": [
    "query = \"\"\"\n",
    "CALL gds.graph.create(\n",
    "   'got',\n",
    "   'Character',\n",
    "   'INTERACTS_SEASON1'\n",
    ")\n",
    "YIELD graphName, nodeCount, relationshipCount, createMillis\n",
    "\"\"\"\n",
    "\n",
    "graph.run(query).to_data_frame()"
   ]
  },
  {
   "cell_type": "code",
   "execution_count": 120,
   "id": "838dd77e-97aa-4991-84be-5256dcb46ebe",
   "metadata": {},
   "outputs": [
    {
     "data": {
      "text/html": [
       "<div>\n",
       "<style scoped>\n",
       "    .dataframe tbody tr th:only-of-type {\n",
       "        vertical-align: middle;\n",
       "    }\n",
       "\n",
       "    .dataframe tbody tr th {\n",
       "        vertical-align: top;\n",
       "    }\n",
       "\n",
       "    .dataframe thead th {\n",
       "        text-align: right;\n",
       "    }\n",
       "</style>\n",
       "<table border=\"1\" class=\"dataframe\">\n",
       "  <thead>\n",
       "    <tr style=\"text-align: right;\">\n",
       "      <th></th>\n",
       "      <th>graphName</th>\n",
       "      <th>nodeQuery</th>\n",
       "      <th>relationshipQuery</th>\n",
       "      <th>nodeCount</th>\n",
       "      <th>relationshipCount</th>\n",
       "      <th>schema</th>\n",
       "      <th>creationTime</th>\n",
       "      <th>modificationTime</th>\n",
       "      <th>memoryUsage</th>\n",
       "    </tr>\n",
       "  </thead>\n",
       "  <tbody>\n",
       "    <tr>\n",
       "      <th>0</th>\n",
       "      <td>got</td>\n",
       "      <td>None</td>\n",
       "      <td>None</td>\n",
       "      <td>400</td>\n",
       "      <td>550</td>\n",
       "      <td>{'relationships': {'INTERACTS_SEASON1': {}}, '...</td>\n",
       "      <td>2021-06-08T10:53:34.603848000-03:00</td>\n",
       "      <td>2021-06-08T10:53:34.606970000-03:00</td>\n",
       "      <td>310 KiB</td>\n",
       "    </tr>\n",
       "  </tbody>\n",
       "</table>\n",
       "</div>"
      ],
      "text/plain": [
       "  graphName nodeQuery relationshipQuery  nodeCount  relationshipCount  \\\n",
       "0       got      None              None        400                550   \n",
       "\n",
       "                                              schema  \\\n",
       "0  {'relationships': {'INTERACTS_SEASON1': {}}, '...   \n",
       "\n",
       "                          creationTime                     modificationTime  \\\n",
       "0  2021-06-08T10:53:34.603848000-03:00  2021-06-08T10:53:34.606970000-03:00   \n",
       "\n",
       "  memoryUsage  \n",
       "0     310 KiB  "
      ]
     },
     "execution_count": 120,
     "metadata": {},
     "output_type": "execute_result"
    }
   ],
   "source": [
    "query = \"\"\"\n",
    "CALL gds.graph.list('got')\n",
    "YIELD graphName, nodeQuery, relationshipQuery, nodeCount, relationshipCount, schema, creationTime, modificationTime, memoryUsage\n",
    "\"\"\"\n",
    "\n",
    "graph.run(query).to_data_frame()"
   ]
  },
  {
   "cell_type": "code",
   "execution_count": 121,
   "id": "39b37504-4e80-4fe8-acf4-39c4d98397f0",
   "metadata": {},
   "outputs": [
    {
     "data": {
      "text/html": [
       "<div>\n",
       "<style scoped>\n",
       "    .dataframe tbody tr th:only-of-type {\n",
       "        vertical-align: middle;\n",
       "    }\n",
       "\n",
       "    .dataframe tbody tr th {\n",
       "        vertical-align: top;\n",
       "    }\n",
       "\n",
       "    .dataframe thead th {\n",
       "        text-align: right;\n",
       "    }\n",
       "</style>\n",
       "<table border=\"1\" class=\"dataframe\">\n",
       "  <thead>\n",
       "    <tr style=\"text-align: right;\">\n",
       "      <th></th>\n",
       "      <th>graphName</th>\n",
       "      <th>nodeCount</th>\n",
       "      <th>relationshipCount</th>\n",
       "    </tr>\n",
       "  </thead>\n",
       "  <tbody>\n",
       "    <tr>\n",
       "      <th>0</th>\n",
       "      <td>got</td>\n",
       "      <td>400</td>\n",
       "      <td>550</td>\n",
       "    </tr>\n",
       "  </tbody>\n",
       "</table>\n",
       "</div>"
      ],
      "text/plain": [
       "  graphName  nodeCount  relationshipCount\n",
       "0       got        400                550"
      ]
     },
     "execution_count": 121,
     "metadata": {},
     "output_type": "execute_result"
    }
   ],
   "source": [
    "query = \"\"\"\n",
    "CALL gds.graph.drop('got')\n",
    "YIELD graphName, nodeCount, relationshipCount\n",
    "\"\"\"\n",
    "\n",
    "graph.run(query).to_data_frame()"
   ]
  },
  {
   "cell_type": "markdown",
   "id": "e7a55d62-f719-42c9-b2cb-0df9554dcdcd",
   "metadata": {},
   "source": [
    "### Algoritmos de Grafos"
   ]
  },
  {
   "cell_type": "markdown",
   "id": "dde5c200-6bc8-4383-8a7c-6bfb7a0a12f3",
   "metadata": {},
   "source": [
    "``` cypher\n",
    "CALL gds[.<tier>].<algorithm>.<execution-mode>[.<estimate>](\n",
    "  graphName: String,\n",
    "  configuration: Map\n",
    ")\n",
    "\n",
    "tier: production mode, beta, alpha\n",
    "algorithm: o algoritmo a ser utilizado\n",
    "execution-mode: stream, stats, mutate, write\n",
    "estimate: estimating memory requirements for algorithms\n",
    "```"
   ]
  },
  {
   "cell_type": "markdown",
   "id": "7c0ad5ba-a06a-4875-9a07-423f88341636",
   "metadata": {},
   "source": [
    "### 1 - Path finding"
   ]
  },
  {
   "cell_type": "markdown",
   "id": "0a222f8f-a4bd-45c2-8127-f642040b0aca",
   "metadata": {},
   "source": [
    "#### Shortest Path"
   ]
  },
  {
   "cell_type": "code",
   "execution_count": 123,
   "id": "0bed6815-e5ba-4876-aa23-2f052206c3c2",
   "metadata": {},
   "outputs": [],
   "source": [
    "query = \"\"\"\n",
    "MATCH (c:Character {id: 'NED'} ),\n",
    "      (c1:Character {id: 'BRONN'}),\n",
    "p = shortestPath((c)-[:INTERACTS_SEASON1*..]-(c1))\n",
    "with nodes(p) as nds\n",
    "RETURN [n IN nds| n.name] AS path\n",
    "\"\"\"\n",
    "\n",
    "path = graph.run(query).to_data_frame()"
   ]
  },
  {
   "cell_type": "code",
   "execution_count": 124,
   "id": "2ed50414-37b3-40c8-8835-c8efa454ccf1",
   "metadata": {},
   "outputs": [
    {
     "data": {
      "text/html": [
       "<div>\n",
       "<style scoped>\n",
       "    .dataframe tbody tr th:only-of-type {\n",
       "        vertical-align: middle;\n",
       "    }\n",
       "\n",
       "    .dataframe tbody tr th {\n",
       "        vertical-align: top;\n",
       "    }\n",
       "\n",
       "    .dataframe thead th {\n",
       "        text-align: right;\n",
       "    }\n",
       "</style>\n",
       "<table border=\"1\" class=\"dataframe\">\n",
       "  <thead>\n",
       "    <tr style=\"text-align: right;\">\n",
       "      <th></th>\n",
       "      <th>path</th>\n",
       "    </tr>\n",
       "  </thead>\n",
       "  <tbody>\n",
       "    <tr>\n",
       "      <th>0</th>\n",
       "      <td>[Ned, Rodrik Cassel, Bronn]</td>\n",
       "    </tr>\n",
       "  </tbody>\n",
       "</table>\n",
       "</div>"
      ],
      "text/plain": [
       "                          path\n",
       "0  [Ned, Rodrik Cassel, Bronn]"
      ]
     },
     "execution_count": 124,
     "metadata": {},
     "output_type": "execute_result"
    }
   ],
   "source": [
    "path"
   ]
  },
  {
   "cell_type": "markdown",
   "id": "27fee603-b16c-4013-b628-ecaad29062aa",
   "metadata": {},
   "source": [
    "### 2 - Clusterização"
   ]
  },
  {
   "cell_type": "markdown",
   "id": "6f6cc9e6-f52e-4f44-8f64-952b798cd03d",
   "metadata": {},
   "source": [
    "#### Weakly Connected Components "
   ]
  },
  {
   "cell_type": "code",
   "execution_count": 147,
   "id": "686029d6-1dd2-4809-8dcb-185e1eeb5833",
   "metadata": {},
   "outputs": [],
   "source": [
    "query = \"\"\"\n",
    "CALL gds.wcc.stream('got') \n",
    "YIELD nodeId, componentId AS community\n",
    "WITH gds.util.asNode(nodeId) AS node, community\n",
    "WITH collect(node) AS allNodes, community\n",
    "RETURN community, allNodes[0..10] AS nodes, size(allNodes) AS size\n",
    "ORDER BY size DESC\n",
    "LIMIT 10\"\"\"\n",
    "\n",
    "wcc = graph.run(query).to_data_frame()"
   ]
  },
  {
   "cell_type": "code",
   "execution_count": 148,
   "id": "92f9bb85-07fd-4001-8ed9-e4297a1a3fbc",
   "metadata": {},
   "outputs": [
    {
     "data": {
      "text/html": [
       "<div>\n",
       "<style scoped>\n",
       "    .dataframe tbody tr th:only-of-type {\n",
       "        vertical-align: middle;\n",
       "    }\n",
       "\n",
       "    .dataframe tbody tr th {\n",
       "        vertical-align: top;\n",
       "    }\n",
       "\n",
       "    .dataframe thead th {\n",
       "        text-align: right;\n",
       "    }\n",
       "</style>\n",
       "<table border=\"1\" class=\"dataframe\">\n",
       "  <thead>\n",
       "    <tr style=\"text-align: right;\">\n",
       "      <th></th>\n",
       "      <th>community</th>\n",
       "      <th>nodes</th>\n",
       "      <th>size</th>\n",
       "    </tr>\n",
       "  </thead>\n",
       "  <tbody>\n",
       "    <tr>\n",
       "      <th>0</th>\n",
       "      <td>0</td>\n",
       "      <td>[{'name': 'Addam', 'id': 'ADDAM_MARBRAND', 'pa...</td>\n",
       "      <td>127</td>\n",
       "    </tr>\n",
       "    <tr>\n",
       "      <th>1</th>\n",
       "      <td>128</td>\n",
       "      <td>[{'name': 'Amory', 'id': 'AMORY', 'pagerank': ...</td>\n",
       "      <td>1</td>\n",
       "    </tr>\n",
       "    <tr>\n",
       "      <th>2</th>\n",
       "      <td>133</td>\n",
       "      <td>[{'name': 'Boros', 'id': 'BOROS', 'pagerank': ...</td>\n",
       "      <td>1</td>\n",
       "    </tr>\n",
       "    <tr>\n",
       "      <th>3</th>\n",
       "      <td>130</td>\n",
       "      <td>[{'name': 'Billy', 'id': 'BILLY', 'pagerank': ...</td>\n",
       "      <td>1</td>\n",
       "    </tr>\n",
       "    <tr>\n",
       "      <th>4</th>\n",
       "      <td>131</td>\n",
       "      <td>[{'name': 'Biter', 'id': 'BITER', 'pagerank': ...</td>\n",
       "      <td>1</td>\n",
       "    </tr>\n",
       "    <tr>\n",
       "      <th>5</th>\n",
       "      <td>132</td>\n",
       "      <td>[{'name': 'Black Lorren', 'id': 'BLACK_LORREN'...</td>\n",
       "      <td>1</td>\n",
       "    </tr>\n",
       "    <tr>\n",
       "      <th>6</th>\n",
       "      <td>129</td>\n",
       "      <td>[{'name': 'Barra', 'id': 'BARRA', 'pagerank': ...</td>\n",
       "      <td>1</td>\n",
       "    </tr>\n",
       "    <tr>\n",
       "      <th>7</th>\n",
       "      <td>134</td>\n",
       "      <td>[{'name': 'Brienne', 'id': 'BRIENNE', 'pageran...</td>\n",
       "      <td>1</td>\n",
       "    </tr>\n",
       "    <tr>\n",
       "      <th>8</th>\n",
       "      <td>135</td>\n",
       "      <td>[{'name': 'Captain's Daughter', 'id': 'CAPTAIN...</td>\n",
       "      <td>1</td>\n",
       "    </tr>\n",
       "    <tr>\n",
       "      <th>9</th>\n",
       "      <td>127</td>\n",
       "      <td>[{'name': 'Alton', 'id': 'ALTON', 'pagerank': ...</td>\n",
       "      <td>1</td>\n",
       "    </tr>\n",
       "  </tbody>\n",
       "</table>\n",
       "</div>"
      ],
      "text/plain": [
       "   community                                              nodes  size\n",
       "0          0  [{'name': 'Addam', 'id': 'ADDAM_MARBRAND', 'pa...   127\n",
       "1        128  [{'name': 'Amory', 'id': 'AMORY', 'pagerank': ...     1\n",
       "2        133  [{'name': 'Boros', 'id': 'BOROS', 'pagerank': ...     1\n",
       "3        130  [{'name': 'Billy', 'id': 'BILLY', 'pagerank': ...     1\n",
       "4        131  [{'name': 'Biter', 'id': 'BITER', 'pagerank': ...     1\n",
       "5        132  [{'name': 'Black Lorren', 'id': 'BLACK_LORREN'...     1\n",
       "6        129  [{'name': 'Barra', 'id': 'BARRA', 'pagerank': ...     1\n",
       "7        134  [{'name': 'Brienne', 'id': 'BRIENNE', 'pageran...     1\n",
       "8        135  [{'name': 'Captain's Daughter', 'id': 'CAPTAIN...     1\n",
       "9        127  [{'name': 'Alton', 'id': 'ALTON', 'pagerank': ...     1"
      ]
     },
     "execution_count": 148,
     "metadata": {},
     "output_type": "execute_result"
    }
   ],
   "source": [
    "wcc"
   ]
  },
  {
   "cell_type": "code",
   "execution_count": 162,
   "id": "8c0caff0-6812-4cec-9f95-9db76b3784bf",
   "metadata": {},
   "outputs": [
    {
     "data": {
      "text/html": [
       "<div>\n",
       "<style scoped>\n",
       "    .dataframe tbody tr th:only-of-type {\n",
       "        vertical-align: middle;\n",
       "    }\n",
       "\n",
       "    .dataframe tbody tr th {\n",
       "        vertical-align: top;\n",
       "    }\n",
       "\n",
       "    .dataframe thead th {\n",
       "        text-align: right;\n",
       "    }\n",
       "</style>\n",
       "<table border=\"1\" class=\"dataframe\">\n",
       "  <thead>\n",
       "    <tr style=\"text-align: right;\">\n",
       "      <th></th>\n",
       "      <th>componentCount</th>\n",
       "      <th>nodePropertiesWritten</th>\n",
       "    </tr>\n",
       "  </thead>\n",
       "  <tbody>\n",
       "    <tr>\n",
       "      <th>0</th>\n",
       "      <td>274</td>\n",
       "      <td>400</td>\n",
       "    </tr>\n",
       "  </tbody>\n",
       "</table>\n",
       "</div>"
      ],
      "text/plain": [
       "   componentCount  nodePropertiesWritten\n",
       "0             274                    400"
      ]
     },
     "execution_count": 162,
     "metadata": {},
     "output_type": "execute_result"
    }
   ],
   "source": [
    "query = \"\"\"\n",
    "CALL gds.wcc.write('got', { writeProperty: 'component' })\n",
    "YIELD componentCount, nodePropertiesWritten\n",
    "\"\"\"\n",
    "\n",
    "graph.run(query).to_data_frame()"
   ]
  },
  {
   "cell_type": "markdown",
   "id": "93773220-7450-4de3-9e5e-76c10a7e6c36",
   "metadata": {},
   "source": [
    "---"
   ]
  },
  {
   "cell_type": "markdown",
   "id": "a70b98a0-b3e8-4d9f-85f3-5242d79b9081",
   "metadata": {},
   "source": [
    "### 3 - Centralidade"
   ]
  },
  {
   "cell_type": "markdown",
   "id": "6f06163b-2196-4004-9146-22431c6fadd8",
   "metadata": {},
   "source": [
    "<img src=\"images/centalityalgos.png\" width=1000px height=1000px /> Representative centrality algorithms (Source: [Needham & Hodler, 2019](https://neo4j.com/blog/graph-algorithms-community-detection-recommendations/))"
   ]
  },
  {
   "cell_type": "markdown",
   "id": "6d63d447-50f5-4577-975d-41f539e67901",
   "metadata": {
    "tags": []
   },
   "source": [
    "#### Centralidade de Grau"
   ]
  },
  {
   "cell_type": "code",
   "execution_count": 149,
   "id": "5ea22a6c-f793-4ac9-bcfd-edc6013d9d43",
   "metadata": {},
   "outputs": [],
   "source": [
    "query = \"\"\"\n",
    "CALL gds.alpha.degree.stream('got') YIELD nodeId, score\n",
    "WITH gds.util.asNode(nodeId) AS node, score\n",
    "RETURN node.name as name, score\n",
    "ORDER BY score DESC\n",
    "LIMIT 10\n",
    "\"\"\"\n",
    "\n",
    "centrality_degree_df = graph.run(query).to_data_frame()"
   ]
  },
  {
   "cell_type": "code",
   "execution_count": 150,
   "id": "00769174-0b62-4993-b410-fe95c3df23bd",
   "metadata": {},
   "outputs": [
    {
     "data": {
      "text/html": [
       "<div>\n",
       "<style scoped>\n",
       "    .dataframe tbody tr th:only-of-type {\n",
       "        vertical-align: middle;\n",
       "    }\n",
       "\n",
       "    .dataframe tbody tr th {\n",
       "        vertical-align: top;\n",
       "    }\n",
       "\n",
       "    .dataframe thead th {\n",
       "        text-align: right;\n",
       "    }\n",
       "</style>\n",
       "<table border=\"1\" class=\"dataframe\">\n",
       "  <thead>\n",
       "    <tr style=\"text-align: right;\">\n",
       "      <th></th>\n",
       "      <th>name</th>\n",
       "      <th>score</th>\n",
       "    </tr>\n",
       "  </thead>\n",
       "  <tbody>\n",
       "    <tr>\n",
       "      <th>0</th>\n",
       "      <td>Catelyn</td>\n",
       "      <td>30.0</td>\n",
       "    </tr>\n",
       "    <tr>\n",
       "      <th>1</th>\n",
       "      <td>Arya</td>\n",
       "      <td>28.0</td>\n",
       "    </tr>\n",
       "    <tr>\n",
       "      <th>2</th>\n",
       "      <td>Ned</td>\n",
       "      <td>23.0</td>\n",
       "    </tr>\n",
       "    <tr>\n",
       "      <th>3</th>\n",
       "      <td>Cersei</td>\n",
       "      <td>23.0</td>\n",
       "    </tr>\n",
       "    <tr>\n",
       "      <th>4</th>\n",
       "      <td>Joffrey</td>\n",
       "      <td>18.0</td>\n",
       "    </tr>\n",
       "    <tr>\n",
       "      <th>5</th>\n",
       "      <td>Bran</td>\n",
       "      <td>18.0</td>\n",
       "    </tr>\n",
       "    <tr>\n",
       "      <th>6</th>\n",
       "      <td>Daenerys</td>\n",
       "      <td>17.0</td>\n",
       "    </tr>\n",
       "    <tr>\n",
       "      <th>7</th>\n",
       "      <td>Jaime</td>\n",
       "      <td>16.0</td>\n",
       "    </tr>\n",
       "    <tr>\n",
       "      <th>8</th>\n",
       "      <td>Petyr</td>\n",
       "      <td>15.0</td>\n",
       "    </tr>\n",
       "    <tr>\n",
       "      <th>9</th>\n",
       "      <td>Jon</td>\n",
       "      <td>14.0</td>\n",
       "    </tr>\n",
       "  </tbody>\n",
       "</table>\n",
       "</div>"
      ],
      "text/plain": [
       "       name  score\n",
       "0   Catelyn   30.0\n",
       "1      Arya   28.0\n",
       "2       Ned   23.0\n",
       "3    Cersei   23.0\n",
       "4   Joffrey   18.0\n",
       "5      Bran   18.0\n",
       "6  Daenerys   17.0\n",
       "7     Jaime   16.0\n",
       "8     Petyr   15.0\n",
       "9       Jon   14.0"
      ]
     },
     "execution_count": 150,
     "metadata": {},
     "output_type": "execute_result"
    }
   ],
   "source": [
    "centrality_degree_df"
   ]
  },
  {
   "cell_type": "markdown",
   "id": "17a550e9-fcf8-4545-8fb1-92583a471a84",
   "metadata": {},
   "source": [
    "#### Betweenness Centrality"
   ]
  },
  {
   "cell_type": "code",
   "execution_count": 151,
   "id": "f628419c-5dca-4312-ac30-c02f451a358f",
   "metadata": {},
   "outputs": [],
   "source": [
    "query = \"\"\"\n",
    "CALL gds.betweenness.stream('got') YIELD nodeId, score\n",
    "WITH gds.util.asNode(nodeId) AS node, score\n",
    "RETURN node.name as name, score\n",
    "ORDER BY score DESC\n",
    "LIMIT 10\n",
    "\"\"\"\n",
    "\n",
    "betweeness = graph.run(query).to_data_frame()"
   ]
  },
  {
   "cell_type": "code",
   "execution_count": 152,
   "id": "6d29d55a-73c2-4614-9556-e5b63691c961",
   "metadata": {},
   "outputs": [
    {
     "data": {
      "text/html": [
       "<div>\n",
       "<style scoped>\n",
       "    .dataframe tbody tr th:only-of-type {\n",
       "        vertical-align: middle;\n",
       "    }\n",
       "\n",
       "    .dataframe tbody tr th {\n",
       "        vertical-align: top;\n",
       "    }\n",
       "\n",
       "    .dataframe thead th {\n",
       "        text-align: right;\n",
       "    }\n",
       "</style>\n",
       "<table border=\"1\" class=\"dataframe\">\n",
       "  <thead>\n",
       "    <tr style=\"text-align: right;\">\n",
       "      <th></th>\n",
       "      <th>name</th>\n",
       "      <th>score</th>\n",
       "    </tr>\n",
       "  </thead>\n",
       "  <tbody>\n",
       "    <tr>\n",
       "      <th>0</th>\n",
       "      <td>Ned</td>\n",
       "      <td>780.109280</td>\n",
       "    </tr>\n",
       "    <tr>\n",
       "      <th>1</th>\n",
       "      <td>Catelyn</td>\n",
       "      <td>332.132143</td>\n",
       "    </tr>\n",
       "    <tr>\n",
       "      <th>2</th>\n",
       "      <td>Robert</td>\n",
       "      <td>185.064835</td>\n",
       "    </tr>\n",
       "    <tr>\n",
       "      <th>3</th>\n",
       "      <td>Jon</td>\n",
       "      <td>167.066056</td>\n",
       "    </tr>\n",
       "    <tr>\n",
       "      <th>4</th>\n",
       "      <td>Tyrion</td>\n",
       "      <td>162.265934</td>\n",
       "    </tr>\n",
       "    <tr>\n",
       "      <th>5</th>\n",
       "      <td>Jorah</td>\n",
       "      <td>155.767857</td>\n",
       "    </tr>\n",
       "    <tr>\n",
       "      <th>6</th>\n",
       "      <td>Robb</td>\n",
       "      <td>142.239560</td>\n",
       "    </tr>\n",
       "    <tr>\n",
       "      <th>7</th>\n",
       "      <td>Joffrey</td>\n",
       "      <td>140.905830</td>\n",
       "    </tr>\n",
       "    <tr>\n",
       "      <th>8</th>\n",
       "      <td>Jeor</td>\n",
       "      <td>140.665385</td>\n",
       "    </tr>\n",
       "    <tr>\n",
       "      <th>9</th>\n",
       "      <td>Jaime</td>\n",
       "      <td>137.284524</td>\n",
       "    </tr>\n",
       "  </tbody>\n",
       "</table>\n",
       "</div>"
      ],
      "text/plain": [
       "      name       score\n",
       "0      Ned  780.109280\n",
       "1  Catelyn  332.132143\n",
       "2   Robert  185.064835\n",
       "3      Jon  167.066056\n",
       "4   Tyrion  162.265934\n",
       "5    Jorah  155.767857\n",
       "6     Robb  142.239560\n",
       "7  Joffrey  140.905830\n",
       "8     Jeor  140.665385\n",
       "9    Jaime  137.284524"
      ]
     },
     "execution_count": 152,
     "metadata": {},
     "output_type": "execute_result"
    }
   ],
   "source": [
    "betweeness"
   ]
  },
  {
   "cell_type": "markdown",
   "id": "c17e2df6-a99d-408c-b2c7-7349edd52246",
   "metadata": {},
   "source": [
    "#### PageRank"
   ]
  },
  {
   "cell_type": "code",
   "execution_count": 153,
   "id": "7f2b972f-07a3-4fe2-a8fe-2263e4188f81",
   "metadata": {},
   "outputs": [],
   "source": [
    "query = \"\"\"\n",
    "CALL gds.pageRank.stream('got') YIELD nodeId, score\n",
    "WITH gds.util.asNode(nodeId) AS node, score\n",
    "RETURN node.name as name, score\n",
    "ORDER BY score DESC\n",
    "LIMIT 10\n",
    "\"\"\"\n",
    "\n",
    "pagerank = graph.run(query).to_data_frame()"
   ]
  },
  {
   "cell_type": "code",
   "execution_count": 154,
   "id": "799b8a5d-434e-4456-badc-4b28ff696f95",
   "metadata": {},
   "outputs": [
    {
     "data": {
      "text/html": [
       "<div>\n",
       "<style scoped>\n",
       "    .dataframe tbody tr th:only-of-type {\n",
       "        vertical-align: middle;\n",
       "    }\n",
       "\n",
       "    .dataframe tbody tr th {\n",
       "        vertical-align: top;\n",
       "    }\n",
       "\n",
       "    .dataframe thead th {\n",
       "        text-align: right;\n",
       "    }\n",
       "</style>\n",
       "<table border=\"1\" class=\"dataframe\">\n",
       "  <thead>\n",
       "    <tr style=\"text-align: right;\">\n",
       "      <th></th>\n",
       "      <th>name</th>\n",
       "      <th>score</th>\n",
       "    </tr>\n",
       "  </thead>\n",
       "  <tbody>\n",
       "    <tr>\n",
       "      <th>0</th>\n",
       "      <td>Tyrion</td>\n",
       "      <td>3.233113</td>\n",
       "    </tr>\n",
       "    <tr>\n",
       "      <th>1</th>\n",
       "      <td>Yoren</td>\n",
       "      <td>2.721321</td>\n",
       "    </tr>\n",
       "    <tr>\n",
       "      <th>2</th>\n",
       "      <td>Varys</td>\n",
       "      <td>1.659855</td>\n",
       "    </tr>\n",
       "    <tr>\n",
       "      <th>3</th>\n",
       "      <td>Tywin</td>\n",
       "      <td>1.605978</td>\n",
       "    </tr>\n",
       "    <tr>\n",
       "      <th>4</th>\n",
       "      <td>Ned</td>\n",
       "      <td>1.316527</td>\n",
       "    </tr>\n",
       "    <tr>\n",
       "      <th>5</th>\n",
       "      <td>Sam</td>\n",
       "      <td>1.281997</td>\n",
       "    </tr>\n",
       "    <tr>\n",
       "      <th>6</th>\n",
       "      <td>Robert</td>\n",
       "      <td>1.092738</td>\n",
       "    </tr>\n",
       "    <tr>\n",
       "      <th>7</th>\n",
       "      <td>Walder</td>\n",
       "      <td>1.088475</td>\n",
       "    </tr>\n",
       "    <tr>\n",
       "      <th>8</th>\n",
       "      <td>Robb</td>\n",
       "      <td>1.064555</td>\n",
       "    </tr>\n",
       "    <tr>\n",
       "      <th>9</th>\n",
       "      <td>Theon</td>\n",
       "      <td>1.021642</td>\n",
       "    </tr>\n",
       "  </tbody>\n",
       "</table>\n",
       "</div>"
      ],
      "text/plain": [
       "     name     score\n",
       "0  Tyrion  3.233113\n",
       "1   Yoren  2.721321\n",
       "2   Varys  1.659855\n",
       "3   Tywin  1.605978\n",
       "4     Ned  1.316527\n",
       "5     Sam  1.281997\n",
       "6  Robert  1.092738\n",
       "7  Walder  1.088475\n",
       "8    Robb  1.064555\n",
       "9   Theon  1.021642"
      ]
     },
     "execution_count": 154,
     "metadata": {},
     "output_type": "execute_result"
    }
   ],
   "source": [
    "pagerank"
   ]
  },
  {
   "cell_type": "markdown",
   "id": "7b116fb2-5612-46e8-a756-06a89712ef46",
   "metadata": {},
   "source": [
    "#### Write Pagerank"
   ]
  },
  {
   "cell_type": "code",
   "execution_count": 155,
   "id": "1dbe3c5d-f1c6-409b-92ca-34221d6cba25",
   "metadata": {},
   "outputs": [],
   "source": [
    "query = \"\"\"\n",
    "CALL gds.pageRank.write('got', {\n",
    "  maxIterations: 20,\n",
    "  dampingFactor: 0.85,\n",
    "  writeProperty: 'pagerank'\n",
    "})\n",
    "YIELD nodePropertiesWritten, ranIterations\n",
    "\"\"\"\n",
    "\n",
    "pagerank = graph.run(query).to_data_frame()"
   ]
  },
  {
   "cell_type": "markdown",
   "id": "f0ab089d-9950-4f04-bca7-66c9bc77d343",
   "metadata": {},
   "source": [
    "#### Top 10 PageRank Season1"
   ]
  },
  {
   "cell_type": "code",
   "execution_count": 178,
   "id": "2b843a59-3b37-4912-a8a2-428e4e23d257",
   "metadata": {},
   "outputs": [],
   "source": [
    "query = \"\"\"\n",
    "Match(c:Character) \n",
    "return c.name as character, c.pagerank as pagerank\n",
    "       order by pagerank DESC\n",
    "       LIMIT 10\n",
    "\"\"\"\n",
    "\n",
    "top10_pagerank = graph.run(query).to_data_frame()"
   ]
  },
  {
   "cell_type": "code",
   "execution_count": 179,
   "id": "3e6176fc-b59f-4cb8-a996-6e316e11783a",
   "metadata": {},
   "outputs": [
    {
     "data": {
      "text/html": [
       "<div>\n",
       "<style scoped>\n",
       "    .dataframe tbody tr th:only-of-type {\n",
       "        vertical-align: middle;\n",
       "    }\n",
       "\n",
       "    .dataframe tbody tr th {\n",
       "        vertical-align: top;\n",
       "    }\n",
       "\n",
       "    .dataframe thead th {\n",
       "        text-align: right;\n",
       "    }\n",
       "</style>\n",
       "<table border=\"1\" class=\"dataframe\">\n",
       "  <thead>\n",
       "    <tr style=\"text-align: right;\">\n",
       "      <th></th>\n",
       "      <th>character</th>\n",
       "      <th>pagerank</th>\n",
       "    </tr>\n",
       "  </thead>\n",
       "  <tbody>\n",
       "    <tr>\n",
       "      <th>0</th>\n",
       "      <td>Tyrion</td>\n",
       "      <td>3.233113</td>\n",
       "    </tr>\n",
       "    <tr>\n",
       "      <th>1</th>\n",
       "      <td>Yoren</td>\n",
       "      <td>2.721321</td>\n",
       "    </tr>\n",
       "    <tr>\n",
       "      <th>2</th>\n",
       "      <td>Varys</td>\n",
       "      <td>1.659855</td>\n",
       "    </tr>\n",
       "    <tr>\n",
       "      <th>3</th>\n",
       "      <td>Tywin</td>\n",
       "      <td>1.605978</td>\n",
       "    </tr>\n",
       "    <tr>\n",
       "      <th>4</th>\n",
       "      <td>Ned</td>\n",
       "      <td>1.316527</td>\n",
       "    </tr>\n",
       "    <tr>\n",
       "      <th>5</th>\n",
       "      <td>Sam</td>\n",
       "      <td>1.281997</td>\n",
       "    </tr>\n",
       "    <tr>\n",
       "      <th>6</th>\n",
       "      <td>Robert</td>\n",
       "      <td>1.092738</td>\n",
       "    </tr>\n",
       "    <tr>\n",
       "      <th>7</th>\n",
       "      <td>Walder</td>\n",
       "      <td>1.088475</td>\n",
       "    </tr>\n",
       "    <tr>\n",
       "      <th>8</th>\n",
       "      <td>Robb</td>\n",
       "      <td>1.064555</td>\n",
       "    </tr>\n",
       "    <tr>\n",
       "      <th>9</th>\n",
       "      <td>Theon</td>\n",
       "      <td>1.021642</td>\n",
       "    </tr>\n",
       "  </tbody>\n",
       "</table>\n",
       "</div>"
      ],
      "text/plain": [
       "  character  pagerank\n",
       "0    Tyrion  3.233113\n",
       "1     Yoren  2.721321\n",
       "2     Varys  1.659855\n",
       "3     Tywin  1.605978\n",
       "4       Ned  1.316527\n",
       "5       Sam  1.281997\n",
       "6    Robert  1.092738\n",
       "7    Walder  1.088475\n",
       "8      Robb  1.064555\n",
       "9     Theon  1.021642"
      ]
     },
     "execution_count": 179,
     "metadata": {},
     "output_type": "execute_result"
    }
   ],
   "source": [
    "top10_pagerank"
   ]
  },
  {
   "cell_type": "code",
   "execution_count": null,
   "id": "ee0a5ad8-b9c1-48aa-bb64-6fe3f07fa7d9",
   "metadata": {},
   "outputs": [],
   "source": []
  }
 ],
 "metadata": {
  "kernelspec": {
   "display_name": "Python 3",
   "language": "python",
   "name": "python3"
  },
  "language_info": {
   "codemirror_mode": {
    "name": "ipython",
    "version": 3
   },
   "file_extension": ".py",
   "mimetype": "text/x-python",
   "name": "python",
   "nbconvert_exporter": "python",
   "pygments_lexer": "ipython3",
   "version": "3.8.8"
  }
 },
 "nbformat": 4,
 "nbformat_minor": 5
}
