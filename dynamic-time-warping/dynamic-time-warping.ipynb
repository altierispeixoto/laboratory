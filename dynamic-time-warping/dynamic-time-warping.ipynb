{
 "cells": [
  {
   "cell_type": "markdown",
   "metadata": {},
   "source": [
    "DTW\n",
    "---\n",
    "It’s a technique used to dynamically compare time series data when the time indices between comparison data points do not sync up perfectly.\n",
    "\n",
    "In general, DTW is a method that calculates an optimal match between two given sequences (e.g. time series) with certain restriction and rules:\n",
    "\n",
    "- Every index from the first sequence must be matched with one or more indices from the other sequence, and vice versa\n",
    "- The first index from the first sequence must be matched with the first index from the other sequence (but it does not have to be its only match)\n",
    "- The last index from the first sequence must be matched with the last index from the other sequence (but it does not have to be its only match)\n",
    "- The mapping of the indices from the first sequence to indices from the other sequence must be monotonically increasing, and vice versa.\n",
    "\n",
    "The optimal match is denoted by the match that satisfies all the restrictions and the rules and that has the minimal cost, where the cost is computed as the sum of absolute differences, for each matched pair of indices, between their values.\n",
    "\n",
    "---\n",
    "Pseudo Code\n",
    "\n",
    "```\n",
    "int DTWDistance(s: array [1..n], t: array [1..m]) {\n",
    "    DTW := array [0..n, 0..m]\n",
    "    \n",
    "    for i := 1 to n\n",
    "        for j := 1 to m\n",
    "            DTW[i, j] := infinity\n",
    "    DTW[0, 0] := 0\n",
    "    \n",
    "    for i := 1 to n\n",
    "        for j := 1 to m\n",
    "            cost := d(s[i], t[j])\n",
    "            DTW[i, j] := cost + minimum(DTW[i-1, j  ],    // insertion\n",
    "                                        DTW[i  , j-1],    // deletion\n",
    "                                        DTW[i-1, j-1])    // match\n",
    "    \n",
    "    return DTW[n, m]\n",
    "}\n",
    "```\n",
    "where $DTW[i, j]$ is the distance between $s[1:i]$ and $t[1:j]$ with the best alignment.\n"
   ]
  },
  {
   "cell_type": "code",
   "execution_count": 1,
   "metadata": {},
   "outputs": [],
   "source": [
    "import numpy as np"
   ]
  },
  {
   "cell_type": "code",
   "execution_count": 2,
   "metadata": {},
   "outputs": [],
   "source": [
    "def dtw(s, t):\n",
    "    n, m = len(s), len(t)\n",
    "    dtw_matrix = np.zeros((n+1, m+1))\n",
    "    for i in range(n+1):\n",
    "        for j in range(m+1):\n",
    "            dtw_matrix[i, j] = np.inf\n",
    "    dtw_matrix[0, 0] = 0\n",
    "    \n",
    "    for i in range(1, n+1):\n",
    "        for j in range(1, m+1):\n",
    "            cost = abs(s[i-1] - t[j-1])\n",
    "            # take last min from a square box\n",
    "            last_min = np.min([dtw_matrix[i-1, j], dtw_matrix[i, j-1], dtw_matrix[i-1, j-1]])\n",
    "            dtw_matrix[i, j] = cost + last_min\n",
    "    return dtw_matrix"
   ]
  },
  {
   "cell_type": "code",
   "execution_count": 3,
   "metadata": {},
   "outputs": [
    {
     "data": {
      "text/plain": [
       "array([[ 0., inf, inf, inf, inf, inf],\n",
       "       [inf,  1.,  2.,  3.,  5.,  8.],\n",
       "       [inf,  1.,  1.,  1.,  2.,  4.],\n",
       "       [inf,  2.,  2.,  2.,  1.,  2.]])"
      ]
     },
     "execution_count": 3,
     "metadata": {},
     "output_type": "execute_result"
    }
   ],
   "source": [
    "a = [1, 2, 3]\n",
    "b = [2, 2, 2, 3, 4]\n",
    "\n",
    "dtw(a, b)"
   ]
  },
  {
   "cell_type": "markdown",
   "metadata": {},
   "source": [
    "Add Window Constraint\n",
    "---\n",
    "We sometimes want to add a locality constraint. That is, we require that if $s[i]$ is matched with $t[j]$, then $|i - j|$ is no larger than $w$, a window parameter.\n",
    "\n",
    "We can easily modify the above algorithm to add a locality constraint (differences marked). However, the above given modification works only if $| n - m |$ is no larger than $w$, i.e. the end point is within the window length from diagonal. In order to make the algorithm work, the window parameter $w$ must be adapted so that $|n-m| \\leq w$\n",
    "\n",
    "---\n",
    "Pseudo Code\n",
    "```\n",
    "int DTWDistance(s: array [1..n], t: array [1..m], w: int) {\n",
    "    DTW := array [0..n, 0..m]\n",
    "\n",
    "    w := max(w, abs(n-m)) // adapt window size (*)\n",
    "\n",
    "    for i := 0 to n\n",
    "        for j:= 0 to m\n",
    "            DTW[i, j] := infinity\n",
    "    DTW[0, 0] := 0\n",
    "    \n",
    "    for i := 1 to n\n",
    "        for j := max(1, i-w) to min(m, i+w)\n",
    "            DTW[i, j] := 0\n",
    "\n",
    "    for i := 1 to n\n",
    "        for j := max(1, i-w) to min(m, i+w)\n",
    "            cost := d(s[i], t[j])\n",
    "            DTW[i, j] := cost + minimum(DTW[i-1, j  ],    // insertion\n",
    "                                        DTW[i  , j-1],    // deletion\n",
    "                                        DTW[i-1, j-1])    // match\n",
    "\n",
    "    return DTW[n, m]\n",
    "}\n",
    "```"
   ]
  },
  {
   "cell_type": "code",
   "execution_count": 4,
   "metadata": {},
   "outputs": [],
   "source": [
    "def dtw(s, t, window):\n",
    "    n, m = len(s), len(t)\n",
    "    w = np.max([window, abs(n-m)])\n",
    "    dtw_matrix = np.zeros((n+1, m+1))\n",
    "    \n",
    "    for i in range(n+1):\n",
    "        for j in range(m+1):\n",
    "            dtw_matrix[i, j] = np.inf\n",
    "    dtw_matrix[0, 0] = 0\n",
    "    \n",
    "    for i in range(1, n+1):\n",
    "        for j in range(np.max([1, i-w]), np.min([m, i+w])+1):\n",
    "            dtw_matrix[i, j] = 0\n",
    "    \n",
    "    for i in range(1, n+1):\n",
    "        for j in range(np.max([1, i-w]), np.min([m, i+w])+1):\n",
    "            cost = abs(s[i-1] - t[j-1])\n",
    "            # take last min from a square box\n",
    "            last_min = np.min([dtw_matrix[i-1, j], dtw_matrix[i, j-1], dtw_matrix[i-1, j-1]])\n",
    "            dtw_matrix[i, j] = cost + last_min\n",
    "    return dtw_matrix"
   ]
  },
  {
   "cell_type": "code",
   "execution_count": 5,
   "metadata": {},
   "outputs": [
    {
     "data": {
      "text/plain": [
       "array([[ 0., inf, inf, inf, inf, inf, inf, inf, inf],\n",
       "       [inf,  0.,  1.,  2.,  3., inf, inf, inf, inf],\n",
       "       [inf,  1.,  0.,  0.,  0.,  0., inf, inf, inf],\n",
       "       [inf,  3.,  1.,  1.,  1.,  1.,  1., inf, inf],\n",
       "       [inf,  5.,  2.,  2.,  2.,  2.,  2.,  2., inf],\n",
       "       [inf, inf,  5.,  5.,  5.,  5.,  5.,  5.,  3.]])"
      ]
     },
     "execution_count": 5,
     "metadata": {},
     "output_type": "execute_result"
    }
   ],
   "source": [
    "a = [1, 2, 3, 3, 5]\n",
    "b = [1, 2, 2, 2, 2, 2, 2, 4]\n",
    "\n",
    "dtw(a, b, window=3)"
   ]
  },
  {
   "cell_type": "markdown",
   "metadata": {},
   "source": [
    "# Package"
   ]
  },
  {
   "cell_type": "code",
   "execution_count": 6,
   "metadata": {},
   "outputs": [],
   "source": [
    "from fastdtw import fastdtw\n",
    "from scipy.spatial.distance import euclidean"
   ]
  },
  {
   "cell_type": "code",
   "execution_count": 7,
   "metadata": {},
   "outputs": [
    {
     "name": "stdout",
     "output_type": "stream",
     "text": [
      "5.0\n",
      "[(0, 0), (1, 1), (1, 2), (1, 3), (1, 4), (2, 5), (3, 6), (4, 7)]\n"
     ]
    }
   ],
   "source": [
    "x = np.array([1, 2, 3, 3, 7])\n",
    "y = np.array([1, 2, 2, 2, 2, 2, 2, 4])\n",
    "\n",
    "distance, path = fastdtw(x, y, dist=euclidean)\n",
    "\n",
    "print(distance)\n",
    "print(path)"
   ]
  },
  {
   "cell_type": "code",
   "execution_count": null,
   "metadata": {},
   "outputs": [],
   "source": []
  }
 ],
 "metadata": {
  "kernelspec": {
   "display_name": "Python 3",
   "language": "python",
   "name": "python3"
  },
  "language_info": {
   "codemirror_mode": {
    "name": "ipython",
    "version": 3
   },
   "file_extension": ".py",
   "mimetype": "text/x-python",
   "name": "python",
   "nbconvert_exporter": "python",
   "pygments_lexer": "ipython3",
   "version": "3.6.5"
  }
 },
 "nbformat": 4,
 "nbformat_minor": 2
}
