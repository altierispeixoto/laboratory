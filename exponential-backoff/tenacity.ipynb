{
 "cells": [
  {
   "cell_type": "code",
   "execution_count": 2,
   "metadata": {},
   "outputs": [
    {
     "name": "stdout",
     "output_type": "stream",
     "text": [
      "\u001b[33mWARNING: The directory '/home/jovyan/.cache/pip' or its parent directory is not owned or is not writable by the current user. The cache has been disabled. Check the permissions and owner of that directory. If executing pip with sudo, you may want sudo's -H flag.\u001b[0m\n",
      "Collecting tenacity\n",
      "  Downloading tenacity-6.2.0-py2.py3-none-any.whl (24 kB)\n",
      "Requirement already satisfied: six>=1.9.0 in /opt/conda/lib/python3.7/site-packages (from tenacity) (1.15.0)\n",
      "Installing collected packages: tenacity\n",
      "Successfully installed tenacity-6.2.0\n"
     ]
    }
   ],
   "source": [
    "!pip install tenacity"
   ]
  },
  {
   "cell_type": "code",
   "execution_count": 1,
   "metadata": {},
   "outputs": [],
   "source": [
    "import random\n",
    "import tenacity\n",
    "import logging\n",
    "from tenacity import wait\n",
    "from tenacity import retry\n",
    "import sys\n",
    "\n",
    "logging.basicConfig(stream=sys.stderr, level=logging.DEBUG)\n",
    "logger = logging.getLogger(__name__)"
   ]
  },
  {
   "cell_type": "code",
   "execution_count": 23,
   "metadata": {},
   "outputs": [
    {
     "name": "stderr",
     "output_type": "stream",
     "text": [
      "DEBUG:__main__:Starting call to '__main__.Teste.do_something_and_retry', this is the 1st time calling it.\n",
      "DEBUG:__main__:Starting call to '__main__.Teste.do_something_and_retry', this is the 2nd time calling it.\n",
      "DEBUG:__main__:Starting call to '__main__.Teste.do_something_and_retry', this is the 3rd time calling it.\n"
     ]
    },
    {
     "name": "stdout",
     "output_type": "stream",
     "text": [
      "funciona!\n"
     ]
    }
   ],
   "source": [
    "import random\n",
    "import tenacity\n",
    "import logging\n",
    "from tenacity import wait\n",
    "from tenacity import retry\n",
    "import sys\n",
    "\n",
    "logging.basicConfig(stream=sys.stderr, level=logging.DEBUG)\n",
    "logger = logging.getLogger(__name__)\n",
    "\n",
    "class Teste():\n",
    "    \n",
    "    def do_something_unreliable(self):\n",
    "        if random.randint(0, 10) > 1:\n",
    "            raise IOError(\"deu erro\")\n",
    "        else:\n",
    "            return \"funciona!\"\n",
    "    \n",
    "    @retry(wait=tenacity.wait_exponential(multiplier=1, min=2, max=6), stop=tenacity.stop_after_attempt(10), before=tenacity.before_log(logger, logging.DEBUG))\n",
    "    def do_something_and_retry(self):\n",
    "        print(self.do_something_unreliable())    \n",
    "\n",
    "tst = Teste()\n",
    "tst.do_something_and_retry()\n"
   ]
  },
  {
   "cell_type": "code",
   "execution_count": 70,
   "metadata": {},
   "outputs": [],
   "source": [
    "#print(do_something_unreliable())"
   ]
  },
  {
   "cell_type": "code",
   "execution_count": 76,
   "metadata": {},
   "outputs": [],
   "source": [
    "# @tenacity.retry(wait=tenacity.wait_fixed(3) + wait.wait_random(0, 3))\n",
    "# def do_something_and_retry():\n",
    "#     print(do_something_unreliable())"
   ]
  },
  {
   "cell_type": "code",
   "execution_count": null,
   "metadata": {},
   "outputs": [],
   "source": [
    "#do_something_and_retry()"
   ]
  },
  {
   "cell_type": "code",
   "execution_count": 3,
   "metadata": {},
   "outputs": [],
   "source": [
    "# @retry(wait=wait_fixed(2))\n",
    "# def do_something_and_retry():\n",
    "#     print(do_something_unreliable())"
   ]
  },
  {
   "cell_type": "code",
   "execution_count": 18,
   "metadata": {},
   "outputs": [
    {
     "name": "stderr",
     "output_type": "stream",
     "text": [
      "DEBUG:__main__:Starting call to '__main__.Teste.do_something_and_retry', this is the 1st time calling it.\n",
      "DEBUG:__main__:Starting call to '__main__.Teste.do_something_and_retry', this is the 2nd time calling it.\n",
      "DEBUG:__main__:Starting call to '__main__.Teste.do_something_and_retry', this is the 3rd time calling it.\n",
      "DEBUG:__main__:Starting call to '__main__.Teste.do_something_and_retry', this is the 4th time calling it.\n",
      "DEBUG:__main__:Starting call to '__main__.Teste.do_something_and_retry', this is the 5th time calling it.\n",
      "DEBUG:__main__:Starting call to '__main__.Teste.do_something_and_retry', this is the 6th time calling it.\n",
      "DEBUG:__main__:Starting call to '__main__.Teste.do_something_and_retry', this is the 7th time calling it.\n",
      "DEBUG:__main__:Starting call to '__main__.Teste.do_something_and_retry', this is the 8th time calling it.\n",
      "DEBUG:__main__:Starting call to '__main__.Teste.do_something_and_retry', this is the 9th time calling it.\n",
      "DEBUG:__main__:Starting call to '__main__.Teste.do_something_and_retry', this is the 10th time calling it.\n"
     ]
    },
    {
     "name": "stdout",
     "output_type": "stream",
     "text": [
      "Awesome sauce!\n"
     ]
    }
   ],
   "source": [
    "tst = Teste()\n",
    "tst.do_something_and_retry()"
   ]
  },
  {
   "cell_type": "code",
   "execution_count": null,
   "metadata": {},
   "outputs": [],
   "source": []
  },
  {
   "cell_type": "code",
   "execution_count": null,
   "metadata": {},
   "outputs": [],
   "source": []
  }
 ],
 "metadata": {
  "kernelspec": {
   "display_name": "Python 3",
   "language": "python",
   "name": "python3"
  },
  "language_info": {
   "codemirror_mode": {
    "name": "ipython",
    "version": 3
   },
   "file_extension": ".py",
   "mimetype": "text/x-python",
   "name": "python",
   "nbconvert_exporter": "python",
   "pygments_lexer": "ipython3",
   "version": "3.7.6"
  }
 },
 "nbformat": 4,
 "nbformat_minor": 4
}
