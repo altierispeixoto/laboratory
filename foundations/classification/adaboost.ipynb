{
 "cells": [
  {
   "cell_type": "markdown",
   "metadata": {},
   "source": [
    "# 0. Dependências "
   ]
  },
  {
   "cell_type": "code",
   "execution_count": 1,
   "metadata": {},
   "outputs": [],
   "source": [
    "import numpy as np\n",
    "import matplotlib.pyplot as plt\n",
    "from sklearn.metrics import accuracy_score\n",
    "\n",
    "%matplotlib inline"
   ]
  },
  {
   "cell_type": "markdown",
   "metadata": {},
   "source": [
    "# 1. Introdução "
   ]
  },
  {
   "cell_type": "markdown",
   "metadata": {},
   "source": [
    "**Boosting** é uma abordadem de Machine Learning baseada na ideia de criar regras de predição com alta acurácia pela combinação de regras fracas e imprecisas. Boosting também é uma das abordages de aprendizagem supervisionada mais populares e bem sucedidas.\n",
    "\n",
    "O **Adaboost** é a técnica mais popular de boosting. A ideia básica do algoritmo é, para cada iteração, treinar um classificador fraco (accurácia > 50%) dando preferência (maiores pesos) aos exemplos incorretamente classificados pelo classificador anterior. Ao final, um classificador forte é construído pelo voto ponderado de cada um dos classificadores.\n",
    "\n",
    "**Vantagens:**\n",
    "- Fácil implementação\n",
    "- Rápido\n",
    "- Apenas um parâmetro para tunning (número de estimadores)\n",
    "- Pode ser usado como seletor de características\n",
    "- Boa generalização\n",
    "- Versátil\n",
    "\n",
    "**Desvantagens:**\n",
    "- Não é robusto a presença de ruído uniforme\n",
    "- Muitos classificadores fracos podem acarretar em overfitting\n",
    "\n",
    "\n",
    "__Pseudo-algoritmo__\n",
    "\n",
    "1. Para cada um dos n_estimadores:\n",
    "    - treine um classificador binário $C_i$ com $y \\in \\{-1, +1\\}$ de acordo com os pesos $w$\n",
    "    - Calcula as predições do classificador\n",
    "    - Calcule a taxa de erro ponderada \n",
    "    \n",
    "    $$e = w*1(y \\neq y_{pred}) = 1 - w*1(y=y_{pred}) \\tag{1}$$\n",
    "    \n",
    "    - Calcule os coeficientes \n",
    "    \n",
    "    $$\\alpha_i = 0.5 * \\log{\\frac{1-e}{e}} \\tag{2}$$\n",
    "    \n",
    "    - Atualize os pesos \n",
    "    \n",
    "    $$w = w*\\exp^{-\\alpha_i *y*y_{pred}} \\tag{3}$$\n",
    "    \n",
    "    - Normalize os pesos \n",
    "    \n",
    "    $$w = \\frac{w}{\\sum w} \\tag{4}$$\n",
    "\n",
    "O Classificador final será dado por:\n",
    "\n",
    "$$sign(\\sum_i{\\alpha_i*C_i.predict(x_{test})}) \\tag{5}$$"
   ]
  },
  {
   "cell_type": "markdown",
   "metadata": {},
   "source": [
    "# 2. Dados"
   ]
  },
  {
   "cell_type": "markdown",
   "metadata": {},
   "source": [
    "Os dados são baseados na [aula sobre boosting](https://www.youtube.com/watch?v=u1MXf5N3wYU) do [curso de Machine Learning da Udacity](https://br.udacity.com/course/machine-learning--ud262). Eu tentei reproduzir, o mais fielmente possível, os dados do gráfico mostrado na aula."
   ]
  },
  {
   "cell_type": "code",
   "execution_count": 2,
   "metadata": {},
   "outputs": [
    {
     "data": {
      "text/plain": [
       "(0, 10)"
      ]
     },
     "execution_count": 2,
     "metadata": {},
     "output_type": "execute_result"
    },
    {
     "data": {
      "image/png": "[encoded data removed]",
      "text/plain": [
       "<matplotlib.figure.Figure at 0x7f0a21df7d50>"
      ]
     },
     "metadata": {
      "needs_background": "light"
     },
     "output_type": "display_data"
    }
   ],
   "source": [
    "x = np.array([[1.0, 6.0],[1.5, 3.0],[3.2, 8.0],[5.2, 9.0],[7.0, 7.0],\n",
    "              [2.2, 2.0],[2.5, 6.5],[5.3, 5.5],[8.5, 8.5],[8.5, 3.2]])\n",
    "y = np.array([1, 1, 1, 1, 1, -1, -1, -1, -1, -1])\n",
    "\n",
    "plt.scatter(x[:5,0], x[:5,1], s=300, marker='+')\n",
    "plt.scatter(x[5:,0], x[5:,1], s=300, marker='_', color='red')\n",
    "plt.xlim(0, 10)"
   ]
  },
  {
   "cell_type": "markdown",
   "metadata": {},
   "source": [
    "# 3. Implementação "
   ]
  },
  {
   "cell_type": "code",
   "execution_count": 3,
   "metadata": {},
   "outputs": [],
   "source": [
    "def weighted_accuracy(pred, y, weights):\n",
    "    return sum([w for p,t,w in zip(pred, y, weights) if p==t])/sum(weights)\n",
    "\n",
    "def sign(x):\n",
    "    if x == 0: return 0\n",
    "    return 1 if x > 0 else -1"
   ]
  },
  {
   "cell_type": "markdown",
   "metadata": {},
   "source": [
    "Como o Adaboost pode utilizar qualquer classificador como base, nós vamos implementar um classificador que só traça linhas em cada atributo (*feature*) tentando maximizar a acurácia."
   ]
  },
  {
   "cell_type": "code",
   "execution_count": 4,
   "metadata": {},
   "outputs": [],
   "source": [
    "class LineClassifier():\n",
    "    def __init__(self, weights=np.array([])):\n",
    "        self.weights = weights\n",
    "        self.value, self.col = 0, 0\n",
    "    \n",
    "    def fit(self, x, y):      \n",
    "        column_count = len(x[0])\n",
    "        \n",
    "        if len(self.weights) == 0:\n",
    "            self.weights = [1.0/len(x)]*len(x)\n",
    "        \n",
    "        best_accuracy = 0.0\n",
    "        \n",
    "        for col in range(column_count):\n",
    "            column_values = [row[col] for row in x]\n",
    "                \n",
    "            for value in np.arange(min(column_values), max(column_values), 0.1):\n",
    "                accuracy = weighted_accuracy(LineClassifier.predict_(x, col, value), y, self.weights)\n",
    "                \n",
    "                if accuracy > best_accuracy:\n",
    "                    best_accuracy = accuracy\n",
    "                    self.col, self.value = col, value\n",
    "                    \n",
    "    def predict(self, x):\n",
    "        return LineClassifier.predict_(x, self.col, self.value)\n",
    "    \n",
    "    @staticmethod\n",
    "    def predict_(x, col, value):\n",
    "        if col == 0: \n",
    "            return [1 if row[col] < value else -1 for row in x]\n",
    "        else:\n",
    "            return [1 if row[col] > value else -1 for row in x]"
   ]
  },
  {
   "cell_type": "code",
   "execution_count": 5,
   "metadata": {},
   "outputs": [],
   "source": [
    "class AdaBoost():\n",
    "    def __init__(self, base_estimator=LineClassifier, minHitRate=0.5, n_estimators=50):\n",
    "        self.classifiers = []\n",
    "        self.alphas = []\n",
    "        self.weights = []\n",
    "        self.base_estimator = base_estimator\n",
    "        self.n_estimators = n_estimators\n",
    "        self.minHitRate = minHitRate\n",
    "    \n",
    "    def fit(self, x, y):\n",
    "        from math import log, e\n",
    "        ln = lambda x: log(x)/log(e)\n",
    "        \n",
    "        if len(self.weights) == 0:\n",
    "            self.weights = [1.0/len(x)]*len(x)\n",
    "        \n",
    "        for n in range(self.n_estimators):\n",
    "            clf = self.base_estimator()\n",
    "            clf.weights = self.weights\n",
    "            clf.fit(x, y)\n",
    "            \n",
    "            pred = clf.predict(x)\n",
    "            error = 1.0 - weighted_accuracy(pred, y, self.weights) # Eq. (1)\n",
    "            \n",
    "            if(error < self.minHitRate):\n",
    "                alpha = 0.5 * ln((1-error)/error) # Eq. (2)\n",
    "                \n",
    "                self.weights = [w*(e**(-alpha*p*t)) for p,t,w in zip(pred, y, self.weights)] # Eq. (3)\n",
    "                self.weights = [w/sum(self.weights) for w in self.weights] # Eq. (4)\n",
    "                \n",
    "                self.classifiers.append(clf)\n",
    "                self.alphas.append(alpha)\n",
    "                \n",
    "                print('[{}]: ε={:.2f} α={:.2f}'.format(n, error, alpha))\n",
    "    \n",
    "    def predict(self, x):\n",
    "        predictions = []\n",
    "\n",
    "        for row in x:\n",
    "            weak_sum = 0.0\n",
    "            \n",
    "            for alpha, clf in zip(self.alphas, self.classifiers):\n",
    "                weak_sum += alpha*clf.predict([row])[0] \n",
    "            predictions.append(sign(weak_sum)) # Eq. (5)\n",
    "        \n",
    "        return np.array(predictions)"
   ]
  },
  {
   "cell_type": "markdown",
   "metadata": {},
   "source": [
    "# 4. Teste "
   ]
  },
  {
   "cell_type": "markdown",
   "metadata": {},
   "source": [
    "A gente pode conferir a implementação por esse [link](https://alliance.seas.upenn.edu/~cis520/wiki/index.php?n=lectures.boosting)."
   ]
  },
  {
   "cell_type": "code",
   "execution_count": 6,
   "metadata": {},
   "outputs": [
    {
     "name": "stdout",
     "output_type": "stream",
     "text": [
      "[0]: ε=0.30 α=0.42\n",
      "[1]: ε=0.21 α=0.65\n",
      "[2]: ε=0.14 α=0.92\n",
      "y_true: [ 1  1  1  1  1 -1 -1 -1 -1 -1]\n",
      "y_pred: [ 1  1  1  1  1 -1 -1 -1 -1 -1]\n"
     ]
    }
   ],
   "source": [
    "ada = AdaBoost(base_estimator=LineClassifier, n_estimators=3, minHitRate=0.3)\n",
    "ada.fit(x, y)\n",
    "y_pred = ada.predict(x)\n",
    "\n",
    "print('y_true:', y)\n",
    "print('y_pred:', y_pred)"
   ]
  },
  {
   "cell_type": "code",
   "execution_count": 7,
   "metadata": {},
   "outputs": [
    {
     "data": {
      "text/plain": [
       "(0, 10)"
      ]
     },
     "execution_count": 7,
     "metadata": {},
     "output_type": "execute_result"
    },
    {
     "data": {
      "image/png": "[encoded data removed]",
      "text/plain": [
       "<matplotlib.figure.Figure at 0x7f0a1c524290>"
      ]
     },
     "metadata": {
      "needs_background": "light"
     },
     "output_type": "display_data"
    }
   ],
   "source": [
    "xv, yv = np.meshgrid(np.linspace(0, 10, 100), np.linspace(0, 10, 100))\n",
    "xyv = np.concatenate((xv, yv), axis=1)\n",
    "\n",
    "pred_2 = []\n",
    "for i in range(xv.shape[0]):\n",
    "    for j in range(xv.shape[1]):\n",
    "        pred_2.append(ada.predict([[xv[i,j], yv[i,j]]]))\n",
    "\n",
    "pred_2 = np.array(pred_2).reshape(xv.shape)\n",
    "plt.contourf(xv, yv, pred_2, cmap=plt.cm.Spectral, alpha=0.6)\n",
    "plt.scatter(x[:5,0], x[:5,1], s=300, marker='+')\n",
    "plt.scatter(x[5:,0], x[5:,1], s=300, marker='_', color='red')\n",
    "plt.xlim(0,10)\n",
    "plt.ylim(0,10)"
   ]
  },
  {
   "cell_type": "markdown",
   "metadata": {},
   "source": [
    "# 5. Referências "
   ]
  },
  {
   "cell_type": "markdown",
   "metadata": {},
   "source": [
    "- [Machine Learning by Georgia Tech (Udacity)](https://br.udacity.com/course/machine-learning--ud262)\n",
    "- [Playlist about Adaboost on Youtube (same as above)](https://www.youtube.com/watch?v=w75WyRjRpAg)\n",
    "- [CIS 520 - Machine Learning 2018](https://alliance.seas.upenn.edu/~cis520/wiki/index.php?n=lectures.boosting)"
   ]
  }
 ],
 "metadata": {
  "anaconda-cloud": {},
  "kernelspec": {
   "display_name": "Python 3",
   "language": "python",
   "name": "python3"
  },
  "language_info": {
   "codemirror_mode": {
    "name": "ipython",
    "version": 3
   },
   "file_extension": ".py",
   "mimetype": "text/x-python",
   "name": "python",
   "nbconvert_exporter": "python",
   "pygments_lexer": "ipython3",
   "version": "3.7.9"
  },
  "nav_menu": {},
  "toc": {
   "navigate_menu": true,
   "number_sections": true,
   "sideBar": true,
   "threshold": 6,
   "toc_cell": false,
   "toc_section_display": "block",
   "toc_window_display": false
  }
 },
 "nbformat": 4,
 "nbformat_minor": 4
}
