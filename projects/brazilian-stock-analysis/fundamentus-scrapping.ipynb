{
 "cells": [
  {
   "cell_type": "code",
   "execution_count": null,
   "metadata": {},
   "outputs": [],
   "source": [
    "import pandas as pd\n",
    "import numpy as np\n",
    "import requests \n",
    "\n",
    "pd.set_option('display.max_rows', None)\n",
    "pd.set_option('display.max_columns', None)"
   ]
  },
  {
   "cell_type": "markdown",
   "metadata": {},
   "source": [
    "##### **SCRAPPING ON FUNDAMENTUS**"
   ]
  },
  {
   "cell_type": "markdown",
   "metadata": {},
   "source": [
    "**Cotação:** Cotação de fechamento da ação no último pregão. <br/>\n",
    "**Papel:** Código da ação <br/>\n",
    "**Tipo:** ON = Ordinária, PN = Preferencial, PNA = Pref. tipo A, etc <br/>\n",
    "**Data ult cot:** Data do último pregão em  que o ativo foi negociado <br/>\n",
    "**Empresa:** Nome comercial da empresa. <br/>\n",
    "**Min 52 sem:** Menor cotação da ação nos últimos 12 meses. <br/>\n",
    "**Max 52 sem:** Maior cotação da ação nos últimos 12 meses. <br/>\n",
    "**Vol \\\\$ méd (2m):** Volume médio de negociação da ação nos últimos 2 meses (R\\\\$) <br/>\n",
    "**Valor de mercado:** Valor de mercado da empresa, calculado multiplicando o preço da ação pelo número total de ações. <br/>\n",
    "**Valor da firma:** Valor da firma (Enterprise Value) é calculado somando o valor de mercado da empresa a sua dívida líquida.<br/>\n",
    "**Últ balanço processado:** Data do último balanço divulgado pela empresa que consta no nosso banco de dados. Todos os indicadores são calculados considerando os últimos 12 meses finalizados na data deste balanço. <br/>\n",
    "**Nro. Ações:** Número total de ações, somadas todas as espécies: ON, PN, etc <br/>\n",
    "**P/L:** Preço da ação dividido pelo lucro por ação. O P/L é o número de anos que se levaria para reaver o capital aplicado na compra de uma ação, através do recebimento do lucro gerado pela empresa, considerando que esses lucros permaneçam constantes. <br/>\n",
    "**P/VP:** Preço da ação dividido pelo Valor Patrimonial por ação. Informa quanto o mercado está disposto a pagar sobre o Patrimônio Líquido da empresa <br/>\n",
    "**P/EBIT:** Preço da ação dividido pelo EBIT por ação. EBIT é o Lucro antes dos Impostos e Despesas Financeiras. É uma boa aproximação do lucro operacional da empresa. <br/>\n",
    "**PSR:** Price Sales Ratio: Preço da ação dividido pela Receita Líquida por ação <br/>\n",
    "**P/Ativos:** Preço da ação dividido pelos Ativos totais por ação. <br/>\n",
    "**P/Cap. Giro:** Preço da ação dividido pelo capital de giro por ação. Capital de giro é o Ativo Circulante menos Passivo Circulante <br/>\n",
    "**P/Ativ Circ Liq:** Preço da ação dividido pelos Ativos Circulantes Líquidos por ação. Ativo Circ. Líq. é obtido subtraindo os ativos circulantes pelas dívidas de curto e longo prazo, ou seja, após o pagamento de todas as dívidas, quanto sobraria dos ativos mais líquidos da empresa (caixa, estoque, etc)<br/>\n",
    "**Div. Yield:** Dividend Yield: Dividendo pago por ação dividido pelo preço da ação. É o rendimento gerado para o dono da ação pelo pagamento de dividendos.<br/>\n",
    "**EV / EBITDA:** Valor da Firma (Enterprise Value dividido pelo EBITDA.<br/>\n",
    "**EV / EBIT:** Valor da Firma (Enterprise Value dividido pelo EBIT.<br/>\n",
    "**Cres. Rec (5a):** Crescimento da Receita Líquida nos últimos 5 anos<br/>\n",
    "**LPA:** Lucro por Ação<br/>\n",
    "**VPA:** Valor Patrimonial por Ação: Valor do Patrimônio Líquido dividido pelo número total de ações.<br/>\n",
    "**Marg. Bruta:** Lucro Bruto dividido pela Receita Líquida: Indica a porcentagem de cada R$1 de venda que sobrou após o custo dos produtos/serviços vendidos<br/>\n",
    "**Marg. EBIT:** EBIT dividido pela Receita Líquida: Indica a porcentagem de cada R\\\\$1 de venda que sobrou após o pagamento dos custos dos produtos/serviços vendidos, das despesas com vendas, gerais e administrativas<br/>\n",
    "**Marg. Líquida:** Lucro Líquido dividido pela Receita Líquida<br/>\n",
    "**EBIT / Ativo:** EBIT dividido por Ativos totais <br/>\n",
    "**ROIC:** Retorno sobre o Capital Investido: Calculado dividindo-se o EBIT por (Ativos - Fornecedores - Caixa). Informa o retorno que a empresa consegue sobre o capital total aplicado.<br/>\n",
    "**ROE:** Retorno sobre o Patrimônio Líquido: Lucro líquido dividido pelo Patrimônio Líquido <br/>\n",
    "**Liquidez Corr:** Ativo Circulante dividido pelo Passivo Circulante: Reflete a capacidade de pagamento da empresa no curto prazo. <br/>\n",
    "**Div Br/ Patrim:** Dívida Bruta total (Dívida+Debêntures) dividido pelo Patrimônio Líquido <br/>\n",
    "**Giro Ativos:** Receita Líquida dividido por Ativos Totais. Indica a eficiência com a qual a empresa usa seus ativos para gerar vendas <br/>\n",
    "**Ativo:** Todos os bens, direitos e valores a receber de uma entidade <br/>\n",
    "**Disponibilidades:** Contas que representam bens numerários (Dinheiro) <br/>\n",
    "**Ativo Circulante:** Bens ou direitos que podem ser convertido em dinheiro em curto prazo <br/>\n",
    "**Dív. Bruta:** Dívida Bruta é obtida somando-se as dívidas de curto e longo prazo mais as debêntures de curto e longo prazo. <br/>\n",
    "**Dív. Líquida:** Dívida Bruta menos Disponibilidades. Se este valor é negativo, significa que a empresa possui caixa líquido positivo. <br/>\n",
    "**Patrim. Líq:** O patrimônio líquido representa os valores que os sócios ou acionistas têm na empresa em um determinado momento. No balanço patrimonial, a diferença entre o valor dos ativos e dos passivos e resultado de exercícios futuros representa o PL (Patrimônio Líquido), que é o valor contábil devido pela pessoa jurídica aos sócios ou acionistas. <br/>\n",
    "**Receita Líquida 12M:** Receita Líquida é a soma de todas as vendas da empresa em determinado período deduzido de devoluções, descontos e alguns impostos. <br/>\n",
    "**EBIT 12M:** Earnings Before Interest and Taxes - Lucro antes dos impostos e juros: Uma aproximação do lucro operacional da empresa. <br/>\n",
    "**Lucro Líquido 12M:** O que sobra das vendas após o todas as despesas. <br/>\n",
    "**Receita Líquida 3M:** Receita Líquida é a soma de todas as vendas da empresa em determinado período deduzido de devoluções, descontos e alguns impostos. <br/>\n",
    "**EBIT 3M:** Earnings Before Interest and Taxes - Lucro antes dos impostos e juros: Uma aproximação do lucro operacional da empresa. <br/>\n",
    "**Lucro Líquido 3M:** O que sobra das vendas após o todas as despesas.<br/>"
   ]
  },
  {
   "cell_type": "code",
   "execution_count": null,
   "metadata": {},
   "outputs": [],
   "source": [
    "def scrapping_acao(cod):\n",
    "    df_final = pd.DataFrame()\n",
    "    try:\n",
    "        df = pd.read_html('https://www.fundamentus.com.br/detalhes.php?papel={}'.format(cod),thousands='.', decimal=',')\n",
    "        df0 = pd.concat([pd.DataFrame(dict(df[0][[0,1]].values.tolist()),index=[0]),pd.DataFrame(dict(df[0][[2,3]].values.tolist()),index=[0])],axis=1)\n",
    "        df1 = pd.concat([pd.DataFrame(dict(df[1][[0,1]].values.tolist()),index=[0]),pd.DataFrame(dict(df[1][[2,3]].values.tolist()),index=[0]),pd.DataFrame(dict(df[2][[0,1]].values.tolist()),index=[0])],axis=1)\n",
    "        df2 = pd.concat([pd.DataFrame(dict(df[2][[2,3]].values.tolist()),index=[0]).drop('Indicadores fundamentalistas',axis=1), pd.DataFrame(dict(df[2][[4,5]].values.tolist()),index=[0]).drop('Indicadores fundamentalistas',axis=1)],axis=1)\n",
    "        df3 = pd.concat([pd.DataFrame(dict(df[3][[0,1]].values.tolist()),index=[0]).drop('Dados Balanço Patrimonial',axis=1), pd.DataFrame(dict(df[3][[2,3]].values.tolist()),index=[0]).drop('Dados Balanço Patrimonial',axis=1)],axis=1)\n",
    "\n",
    "        df12m = pd.DataFrame(dict(df[4][[0,1]].values.tolist()),index=[0]).drop(['Dados demonstrativos de resultados','Últimos 12 meses'],axis=1)\n",
    "        df12m = df12m.add_suffix(' 12M')\n",
    "\n",
    "        df3m = pd.DataFrame(dict(df[4][[2,3]].values.tolist()),index=[0]).drop(['Dados demonstrativos de resultados','Últimos 3 meses'],axis=1)  \n",
    "        df3m = df3m.add_suffix(' 3M')\n",
    "        df4 = pd.concat([df12m,df3m],axis=1)\n",
    "\n",
    "        df_final = pd.concat([df0,df1,df2,df3,df4],axis=1)\n",
    "        df_final.columns = df_final.columns.str.replace('?','')\n",
    "        df_final = df_final.drop(['Oscilações'],axis=1)\n",
    "    except:\n",
    "        print(cod)\n",
    "        \n",
    "    return df_final\n",
    "\n",
    "\n",
    "def scrapping_tabela_resultados():\n",
    "    \n",
    "    url = 'https://www.fundamentus.com.br/resultado.php'\n",
    "    # data to be sent to api \n",
    "    data = {'negociada':'ON'} \n",
    "  \n",
    "    # sending post request and saving response as response object \n",
    "    r = requests.post(url = url, data = data) \n",
    "\n",
    "    df = pd.read_html(r.text,thousands='.', decimal=',')\n",
    "    return df[0]\n",
    "        \n"
   ]
  },
  {
   "cell_type": "code",
   "execution_count": null,
   "metadata": {},
   "outputs": [],
   "source": [
    "df_final = pd.DataFrame()\n",
    "for index, acao in scrapping_tabela_resultados().iterrows():\n",
    "    df_acao = scrapping_acao(acao['Papel'])\n",
    "    df_final = df_final.append(df_acao,sort=False)"
   ]
  },
  {
   "cell_type": "code",
   "execution_count": null,
   "metadata": {},
   "outputs": [],
   "source": [
    "df_final.head()"
   ]
  },
  {
   "cell_type": "code",
   "execution_count": null,
   "metadata": {},
   "outputs": [],
   "source": [
    "df_final.to_csv('data/fundamentus_raw.csv',index=False)   "
   ]
  },
  {
   "cell_type": "markdown",
   "metadata": {},
   "source": [
    "#### **CLEANSING DATA**"
   ]
  },
  {
   "cell_type": "code",
   "execution_count": null,
   "metadata": {},
   "outputs": [],
   "source": [
    "df_fundamentus = pd.read_csv(\"data/fundamentus_raw.csv\", na_values='-' )\n",
    "df_fundamentus =  df_fundamentus[~(df_fundamentus['Data últ cot'].isna()) & (df_fundamentus['Vol $ méd (2m)'] > 0 ) ]\n",
    "df_fundamentus = df_fundamentus.drop(['Depósitos','Result Int Financ 12M','Rec Serviços 12M','Result Int Financ 3M','Rec Serviços 3M','Cart. de Crédito'],axis=1)\n",
    "df_fundamentus = df_fundamentus[(df_fundamentus['Papel'] != 'CEAB3')]"
   ]
  },
  {
   "cell_type": "code",
   "execution_count": null,
   "metadata": {},
   "outputs": [],
   "source": [
    "df_fundamentus.head(10)"
   ]
  },
  {
   "cell_type": "code",
   "execution_count": null,
   "metadata": {},
   "outputs": [],
   "source": [
    "for col in ['Dia','Mês','30 dias','12 meses','2019','2018','2017','2016','2015']:\n",
    "    df_fundamentus[col] = df_fundamentus[col].apply(lambda x : x.replace('%','').replace(',','.').replace('.',''))\n",
    "    df_fundamentus[col] = df_fundamentus[col].astype(float)/100"
   ]
  },
  {
   "cell_type": "code",
   "execution_count": null,
   "metadata": {},
   "outputs": [],
   "source": [
    "for col in ['Div. Yield','Marg. Bruta','Marg. EBIT','Marg. Líquida','EBIT / Ativo','ROIC','ROE','Cres. Rec (5a)']:\n",
    "    df_fundamentus[col] = df_fundamentus[col].apply(lambda x : str(x).replace('%','').replace(',','.').replace('.',''))\n",
    "    df_fundamentus[col] = df_fundamentus[col].astype(float)/10\n",
    "   "
   ]
  },
  {
   "cell_type": "code",
   "execution_count": null,
   "metadata": {},
   "outputs": [],
   "source": [
    "df_fundamentus['Valor de mercado'] = df_fundamentus['Valor de mercado'].replace('',np.NaN)\n",
    "df_fundamentus['Valor da firma'] = df_fundamentus['Valor da firma'].replace('',np.NaN)\n",
    "df_fundamentus['Valor de mercado'] = df_fundamentus['Valor de mercado'].astype(float)/1000000000\n",
    "df_fundamentus['Valor da firma'] = df_fundamentus['Valor da firma'].astype(float)/1000000000\n",
    "\n",
    "df_fundamentus['Dív. Líquida'] = df_fundamentus['Dív. Líquida'].astype(float)/1000000\n",
    "df_fundamentus['Patrim. Líq'] = df_fundamentus['Patrim. Líq'].astype(float)/1000000\n",
    "df_fundamentus['Receita Líquida 12M'] = df_fundamentus['Receita Líquida 12M'].astype(float)/1000000\n",
    "df_fundamentus['Receita Líquida 3M'] = df_fundamentus['Receita Líquida 3M'].astype(float)/1000000\n",
    "df_fundamentus['Lucro Líquido 12M'] = df_fundamentus['Lucro Líquido 12M'].astype(float)/1000000\n",
    "df_fundamentus['Lucro Líquido 3M'] = df_fundamentus['Lucro Líquido 3M'].astype(float)/1000000\n",
    "\n",
    "df_fundamentus['Ativo'] = df_fundamentus['Ativo'].astype(float)/1000000\n",
    "df_fundamentus['Disponibilidades'] = df_fundamentus['Disponibilidades'].astype(float)/1000000\n",
    "df_fundamentus['Ativo Circulante'] = df_fundamentus['Ativo Circulante'].astype(float)/1000000\n",
    "\n",
    "df_fundamentus['Dív. Bruta'] = df_fundamentus['Dív. Bruta'].astype(float)/1000000\n",
    "df_fundamentus['Dív. Líquida'] = df_fundamentus['Dív. Líquida'].astype(float)/1000000\n",
    "df_fundamentus['EBIT 3M'] = df_fundamentus['Dív. Líquida'].astype(float)/1000000\n",
    "\n",
    "df_fundamentus['Nro. Ações'] = df_fundamentus['Nro. Ações'].astype(float)/1000000\n",
    "df_fundamentus['Vol $ méd (2m)'] = df_fundamentus['Vol $ méd (2m)'].astype(float)/1000000\n",
    "\n",
    "columns = {\"Dia\":\"dia\",\n",
    "           \"Papel\":\"papel\",\n",
    "           \"Tipo\":\"tipo\",\n",
    "           \"Empresa\":\"empresa\",\n",
    "           \"Setor\":\"setor\",\n",
    "           \"Subsetor\":\"subsetor\",\n",
    "           \"Cotação\":\"cotacao\",\n",
    "           \"Data últ cot\":\"data_ult_cot\",\n",
    "           \"Min 52 sem\":\"min_52_sem\",\n",
    "           \"Max 52 sem\":\"max_52_sem\",\n",
    "           \"Mês\":\"mes\",\n",
    "           \"30 dias\":\"30_dias\",\n",
    "           \"12 meses\":\"12_meses\",\n",
    "           \"Valor de mercado\": \"valor_mercado_bi\", \n",
    "           \"Valor da firma\": \"valor_firma_bi\",\n",
    "           \"Dív. Líquida\": \"div_liq_mi\",\n",
    "           \"Patrim. Líq\": \"patrim_liq_mi\",\n",
    "           \"Receita Líquida 12M\": \"rec_liq_12M_mi\",\n",
    "           \"Receita Líquida 3M\": \"rec_liq_3M_mi\",\n",
    "           \"Lucro Líquido 12M\": \"lucro_liq_12M_mi\",\n",
    "           \"Lucro Líquido 3M\": \"lucro_liq_3M_mi\", \n",
    "           \"Ativo\": \"ativo_mi\", \n",
    "           \"Disponibilidades\": \"disp_mi\" ,\n",
    "           \"Ativo Circulante\": \"ativ_circ_mi\",\n",
    "           \"Dív. Bruta\": \"div_brut_mi\",\n",
    "           \"Dív. Líquida\": \"div_liq_mi\",\n",
    "           \"EBIT 3M\": \"ebit_3M_mi\",\n",
    "           \"Nro. Ações\": \"nro_acoes_mi\",\n",
    "           \"Vol $ méd (2m)\": \"vol_med_2ms_mi\",\n",
    "           \"Últ balanço processado\":\"ult_bal_processado\",\n",
    "           \"P/L\":\"p_l\",\n",
    "           \"P/VP\":\"p_vp\",\n",
    "           \"P/EBIT\":\"p_ebit\",\n",
    "           \"PSR\":\"p_sr\",\n",
    "           \"P/Ativos\": \"p_ativos\",\n",
    "           \"P/Cap. Giro\":\"p_cap_giro\",\n",
    "           \"P/Ativ Circ Liq\":\"p_ativ_circ_liq\",\n",
    "           \"Div. Yield\":\"div_yeld\",\n",
    "           \"EV / EBITDA\":\"ev_ebitda\",\n",
    "           \"EV / EBIT\": \"ev_ebit\",\n",
    "           \"Cres. Rec (5a)\": \"cresc_rec_5a\",\n",
    "           \"LPA\": \"lpa\",\n",
    "           \"VPA\"           : \"vpa\", \n",
    "           \"Marg. Bruta\"   : \"marg_bruta\",\n",
    "           \"Marg. EBIT\"    : \"marg_ebit\",\n",
    "           \"Marg. Líquida\" : \"marg_liq\",\n",
    "           \"EBIT / Ativo\"  : \"ebit_ativo\",\n",
    "           \"ROIC\"          : \"roic\",\n",
    "           \"ROE\"           : \"roe\",\n",
    "           \"Liquidez Corr\" : \"liq_corr\",\n",
    "           \"Div Br/ Patrim\": \"div_br_patrim\",\n",
    "           \"Giro Ativos\":    \"giro_ativos\"\n",
    "           \n",
    "}\n",
    "                      \n",
    "df_fundamentus = df_fundamentus.rename(columns = columns)                      "
   ]
  },
  {
   "cell_type": "code",
   "execution_count": null,
   "metadata": {},
   "outputs": [],
   "source": [
    "df_fundamentus.head()"
   ]
  },
  {
   "cell_type": "code",
   "execution_count": null,
   "metadata": {},
   "outputs": [],
   "source": [
    "df_fundamentus.to_csv(\"data/fundamentus_cleansed.csv\",index=False)"
   ]
  },
  {
   "cell_type": "markdown",
   "metadata": {},
   "source": [
    "https://www.btgpactualdigital.com/blog/coluna-andre-bona/a-formula-magica-de-greenblatt-para-escolha-de-acoes <br/>\n",
    "https://mgfinancas.com.br/2019/01/07/tutorial-formula-de-investimentos-de-joel-grenblatt-no-fundamentus-com-br/ <br/>\n",
    "https://londoncapital.com.br/blog/como-encontrar-as-maiores-barganhas-da-bolsa-de-valores/"
   ]
  },
  {
   "cell_type": "code",
   "execution_count": null,
   "metadata": {},
   "outputs": [],
   "source": []
  }
 ],
 "metadata": {
  "kernelspec": {
   "display_name": "Python 3",
   "language": "python",
   "name": "python3"
  },
  "language_info": {
   "codemirror_mode": {
    "name": "ipython",
    "version": 3
   },
   "file_extension": ".py",
   "mimetype": "text/x-python",
   "name": "python",
   "nbconvert_exporter": "python",
   "pygments_lexer": "ipython3",
   "version": "3.7.10"
  }
 },
 "nbformat": 4,
 "nbformat_minor": 4
}
