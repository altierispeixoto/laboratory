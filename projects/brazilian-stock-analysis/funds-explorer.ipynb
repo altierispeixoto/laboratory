{
 "cells": [
  {
   "cell_type": "markdown",
   "metadata": {
    "colab_type": "text",
    "id": "view-in-github"
   },
   "source": [
    "<a href=\"https://colab.research.google.com/github/altierispeixoto/fundamentus/blob/main/notebooks/funds-explorer.ipynb\" target=\"_parent\"><img src=\"https://colab.research.google.com/assets/colab-badge.svg\" alt=\"Open In Colab\"/></a>"
   ]
  },
  {
   "cell_type": "markdown",
   "metadata": {
    "id": "wJV_vA8-ffaM"
   },
   "source": [
    "https://www.fundsexplorer.com.br/ranking"
   ]
  },
  {
   "cell_type": "code",
   "execution_count": null,
   "metadata": {
    "id": "ytGVmUCcffaP"
   },
   "outputs": [],
   "source": [
    "import pandas as pd\n",
    "pd.set_option('display.max_columns', None)\n",
    "pd.set_option('display.max_rows', None)\n",
    "pd.options.display.float_format = '{:.2f}'.format"
   ]
  },
  {
   "cell_type": "code",
   "execution_count": null,
   "metadata": {
    "id": "Q_e069bGffaQ"
   },
   "outputs": [],
   "source": [
    "import urllib.request\n",
    "\n",
    "user_agent = 'Mozilla/5.0 (Windows; U; Windows NT 5.1; en-US; rv:1.9.0.7) Gecko/2009021910 Firefox/3.0.7'\n",
    "\n",
    "url = \"https://www.fundsexplorer.com.br/ranking\"\n",
    "headers={'User-Agent':user_agent,} \n",
    "\n",
    "request=urllib.request.Request(url,None,headers) #The assembled request\n",
    "response = urllib.request.urlopen(request)\n",
    "data = response.read() "
   ]
  },
  {
   "cell_type": "code",
   "execution_count": null,
   "metadata": {
    "id": "FIPsF0bcffaQ"
   },
   "outputs": [],
   "source": [
    "df = pd.read_html(data,encoding='utf-8', decimal=',', thousands='.')"
   ]
  },
  {
   "cell_type": "code",
   "execution_count": null,
   "metadata": {
    "id": "ry8C081VffaQ"
   },
   "outputs": [],
   "source": [
    "df = df[0]"
   ]
  },
  {
   "cell_type": "code",
   "execution_count": null,
   "metadata": {
    "colab": {
     "base_uri": "https://localhost:8080/",
     "height": 153
    },
    "id": "iKftS2X7ffaR",
    "outputId": "88d356a0-569c-4561-ed57-6326a9e6d5c6"
   },
   "outputs": [],
   "source": [
    "df[(df['Códigodo fundo'] == 'KNRI11' )].head()"
   ]
  },
  {
   "cell_type": "code",
   "execution_count": null,
   "metadata": {
    "id": "HFoz5BVOffaR"
   },
   "outputs": [],
   "source": [
    "columns = {\"Códigodo fundo\":\"cod\",\n",
    "           \"Setor\":\"setor\",\n",
    "           \"Preço Atual\":\"preco_R$\",\n",
    "           \"Liquidez Diária\":\"liq_diaria\",\n",
    "           \"Dividendo\":\"dividendo_R$\",\n",
    "           \"DividendYield\":\"div_yield_pct\",\n",
    "           \"DY (3M)Acumulado\":\"div_yield_3M_pct\",\n",
    "           \"DY (6M)Acumulado\":\"div_yield_6M_pct\",\n",
    "           \"DY (12M)Acumulado\":\"div_yield_12M_pct\",\n",
    "           \"DY (3M)Média\":\"div_yield_3M_pct_media\",\n",
    "           \"DY (6M)Média\":\"div_yield_6M_pct_media\",\n",
    "           \"DY (12M)Média\":\"div_yield_12M_pct_media\",\n",
    "           \"DY Ano\":\"div_yield_ano_pct\",\n",
    "           \"Variação Preço\":\"var_preco_pct\",\n",
    "           \"Rentab.Período\":\"rent_periodo_pct\",\n",
    "           \"Rentab.Acumulada\":\"rent_acum_pct\",\n",
    "           \"PatrimônioLíq.\":\"patr_liq_R$\",\n",
    "           \"VPA\":\"vpa_R$\",\n",
    "           \"P/VPA\":\"p_vpa\",\n",
    "           \"DYPatrimonial\":\"dy_patrimonial\",\n",
    "           \"VariaçãoPatrimonial\":\"var_patr_pct\",\n",
    "           \"Rentab. Patr.no Período\":\"rent_patri_no_periodo_pct\",\n",
    "           \"Rentab. Patr.Acumulada\":\"rent_patri_acum_pct\",\n",
    "           \"VacânciaFísica\":\"vac_fisica_pct\",\n",
    "           \"VacânciaFinanceira\":\"vac_financeira_pct\",\n",
    "           \"QuantidadeAtivos\":\"nr_ativos\"\n",
    "}\n",
    "                      \n",
    "df = df.rename(columns = columns)          "
   ]
  },
  {
   "cell_type": "code",
   "execution_count": null,
   "metadata": {
    "id": "y1npdFmsffaS"
   },
   "outputs": [],
   "source": [
    "df['preco_R$'] = df['preco_R$'].map(lambda x : float(str(x).replace('R$','').replace('.','').replace(',','.')))\n",
    "df['dividendo_R$'] = df['dividendo_R$'].map(lambda x : float(str(x).replace('R$','').replace(',','.')))\n",
    "df['patr_liq_R$'] = df['patr_liq_R$'].map(lambda x : float(str(x).replace('R$','').replace('.','').replace(',','.')))\n",
    "df['vpa_R$'] = df['vpa_R$'].map(lambda x : float(str(x).replace('R$','').replace('.','').replace(',','.')))\n",
    "\n",
    "\n",
    "df['div_yield_pct'] = df['div_yield_pct'].map(lambda x : float(str(x).replace('%','').replace(',','.')))\n",
    "df['div_yield_3M_pct'] = df['div_yield_3M_pct'].map(lambda x : float(str(x).replace('%','').replace(',','.')))\n",
    "df['div_yield_6M_pct'] = df['div_yield_6M_pct'].map(lambda x : float(str(x).replace('%','').replace(',','.')))\n",
    "df['div_yield_12M_pct'] = df['div_yield_12M_pct'].map(lambda x : float(str(x).replace('%','').replace(',','.')))\n",
    "df['div_yield_3M_pct_media'] = df['div_yield_3M_pct_media'].map(lambda x : float(str(x).replace('%','').replace(',','.')))\n",
    "\n",
    "df['div_yield_6M_pct_media'] = df['div_yield_6M_pct_media'].map(lambda x : float(str(x).replace('%','').replace(',','.')))\n",
    "\n",
    "df['div_yield_12M_pct_media'] = df['div_yield_12M_pct_media'].map(lambda x : float(str(x).replace('%','').replace(',','.')))\n",
    "df['div_yield_ano_pct'] = df['div_yield_ano_pct'].map(lambda x : float(str(x).replace('%','').replace(',','.')))\n",
    "df['var_preco_pct'] = df['var_preco_pct'].map(lambda x : float(str(x).replace('%','').replace(',','.')))\n",
    "#df['rent_acum_pct'] = df['rent_acum_pct'].map(lambda x : float(str(x).replace('%','').replace(',','.')))\n",
    "\n",
    "df['dy_patrimonial'] = df['dy_patrimonial'].map(lambda x : float(str(x).replace('%','').replace(',','.')))\n",
    "df['var_patr_pct'] = df['var_patr_pct'].map(lambda x : float(str(x).replace('%','').replace(',','.')))\n",
    "df['rent_patri_no_periodo_pct'] = df['rent_patri_no_periodo_pct'].map(lambda x : float(str(x).replace('%','').replace(',','.')))\n",
    "df['rent_patri_acum_pct'] = df['rent_patri_acum_pct'].map(lambda x : float(str(x).replace('%','').replace('.','').replace(',','.')))\n",
    "\n",
    "df['vac_fisica_pct'] = df['vac_fisica_pct'].map(lambda x : float(str(x).replace('%','').replace(',','.')))\n",
    "df['vac_financeira_pct'] = df['vac_financeira_pct'].map(lambda x : float(str(x).replace('%','').replace(',','.')))\n",
    "\n",
    "df['rent_periodo_pct'] = df['rent_periodo_pct'].map(lambda x : float(str(x).replace('%','').replace(',','.')))\n"
   ]
  },
  {
   "cell_type": "code",
   "execution_count": null,
   "metadata": {
    "id": "bMgNJynxffaT"
   },
   "outputs": [],
   "source": [
    "#df.to_csv(\"data/fundsexplorer_raw.csv\",index=False)"
   ]
  },
  {
   "cell_type": "code",
   "execution_count": null,
   "metadata": {
    "id": "o2-TFvkJffaT"
   },
   "outputs": [],
   "source": [
    "#df = pd.read_csv(\"data/fundsexplorer_raw.csv\")"
   ]
  },
  {
   "cell_type": "code",
   "execution_count": null,
   "metadata": {
    "colab": {
     "base_uri": "https://localhost:8080/",
     "height": 802
    },
    "id": "tOTY7a3fffaT",
    "outputId": "bf183b1c-5d84-4480-9667-a616bec94214"
   },
   "outputs": [],
   "source": [
    "df[(df['cod'].isin(['ABCP11','BCRI11','BBPO11','CPTS11B','EDFO11B','FVPQ11','FIIB11','HGBS11','HGCR11','HGLG11','HGPO11','HGRE11','KNCR11','KNRI11','KNHY11','MALL11','MXRF11','OUJP11','PQDP11','SDIL11','TGAR11','VRTA11','VISC11','XPLG11']))][['cod','setor']].sort_values(['setor'])"
   ]
  },
  {
   "cell_type": "code",
   "execution_count": null,
   "metadata": {
    "id": "-8kyVWbbffaU"
   },
   "outputs": [],
   "source": [
    "df = df[~(df['setor'].isin(['Hospital','Hotel','Residencial']))].sort_values(['setor','cod'])[['cod','setor','preco_R$','liq_diaria','dividendo_R$','vac_fisica_pct','vac_financeira_pct','vpa_R$','p_vpa','div_yield_12M_pct','div_yield_12M_pct_media','div_yield_pct','nr_ativos']]"
   ]
  },
  {
   "cell_type": "code",
   "execution_count": null,
   "metadata": {
    "colab": {
     "base_uri": "https://localhost:8080/"
    },
    "id": "vII9X_lwiP-m",
    "outputId": "a33fe610-f36d-4503-f717-c682eef54b71"
   },
   "outputs": [],
   "source": [
    "df.shape[0]"
   ]
  },
  {
   "cell_type": "code",
   "execution_count": null,
   "metadata": {
    "colab": {
     "base_uri": "https://localhost:8080/"
    },
    "id": "d2vuBjaKffaU",
    "outputId": "1bd0048f-1458-4bf2-eef1-7a423d9dec33"
   },
   "outputs": [],
   "source": [
    "df['setor'].unique()"
   ]
  },
  {
   "cell_type": "code",
   "execution_count": null,
   "metadata": {
    "colab": {
     "base_uri": "https://localhost:8080/",
     "height": 1000
    },
    "id": "rHYIjUgwffaU",
    "outputId": "6d9752e7-55da-4317-a560-558aca801e86"
   },
   "outputs": [],
   "source": [
    "df[(df['setor']=='Títulos e Val. Mob.')].sort_values(['div_yield_pct'],ascending=False)[['cod','preco_R$','liq_diaria','dividendo_R$','vpa_R$','p_vpa','div_yield_12M_pct_media','div_yield_12M_pct','div_yield_pct']]"
   ]
  },
  {
   "cell_type": "code",
   "execution_count": null,
   "metadata": {
    "colab": {
     "base_uri": "https://localhost:8080/",
     "height": 143
    },
    "id": "YaVhPOQeffaU",
    "outputId": "4004b924-cc36-4008-99a8-30f03203e4d7"
   },
   "outputs": [],
   "source": [
    "df[(df['setor']=='Logística')  & (df['nr_ativos'] > 5) & (df['preco_R$'] < 1000)]"
   ]
  },
  {
   "cell_type": "code",
   "execution_count": null,
   "metadata": {
    "colab": {
     "base_uri": "https://localhost:8080/",
     "height": 81
    },
    "id": "64840puXffaU",
    "outputId": "7a63378d-3a4a-4edd-c82b-d4d29595c9d9"
   },
   "outputs": [],
   "source": [
    "df[(df['setor']=='Shoppings') & (df['nr_ativos'] > 5) & (df['preco_R$'] < 1000)]"
   ]
  },
  {
   "cell_type": "code",
   "execution_count": null,
   "metadata": {
    "colab": {
     "base_uri": "https://localhost:8080/",
     "height": 143
    },
    "id": "6UefAAREffaV",
    "outputId": "bab2caaa-b4d6-40d7-e20e-f7e190db6782"
   },
   "outputs": [],
   "source": [
    "df[(df['setor']=='Híbrido') & (df['nr_ativos'] > 5) & (df['preco_R$'] < 1000) ]"
   ]
  },
  {
   "cell_type": "code",
   "execution_count": null,
   "metadata": {
    "colab": {
     "base_uri": "https://localhost:8080/",
     "height": 112
    },
    "id": "rA_6FAzvffaV",
    "outputId": "072d5b34-00f2-4c84-c4b6-b2ff4d8c7209"
   },
   "outputs": [],
   "source": [
    "df[(df['setor']=='Lajes Corporativas') & (df['nr_ativos'] > 5) & (df['preco_R$'] < 1000)]"
   ]
  },
  {
   "cell_type": "code",
   "execution_count": null,
   "metadata": {
    "id": "hoGrNZ0MffaV"
   },
   "outputs": [],
   "source": []
  }
 ],
 "metadata": {
  "colab": {
   "include_colab_link": true,
   "name": "funds-explorer.ipynb",
   "provenance": []
  },
  "interpreter": {
   "hash": "3d4f53146667bac961351889603a77f79f01eeaf7c14782091060afd96db22b8"
  },
  "kernelspec": {
   "display_name": "Python 3.9.7 64-bit ('poetry-env': conda)",
   "name": "python3"
  },
  "language_info": {
   "codemirror_mode": {
    "name": "ipython",
    "version": 3
   },
   "file_extension": ".py",
   "mimetype": "text/x-python",
   "name": "python",
   "nbconvert_exporter": "python",
   "pygments_lexer": "ipython3",
   "version": "3.9.7"
  }
 },
 "nbformat": 4,
 "nbformat_minor": 0
}
