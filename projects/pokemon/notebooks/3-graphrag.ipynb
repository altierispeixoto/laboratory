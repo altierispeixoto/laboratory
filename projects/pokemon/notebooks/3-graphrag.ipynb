{
 "cells": [
  {
   "cell_type": "code",
   "execution_count": 1,
   "metadata": {},
   "outputs": [],
   "source": [
    "from neo4j import GraphDatabase\n",
    "from neo4j_graphrag.indexes import create_fulltext_index, create_vector_index,drop_index_if_exists\n",
    "\n",
    "from neo4j_graphrag.embeddings.openai import OpenAIEmbeddings\n",
    "from neo4j_graphrag.retrievers import VectorRetriever, HybridCypherRetriever\n",
    "from neo4j_graphrag.llm import OpenAILLM\n",
    "from neo4j_graphrag.generation import GraphRAG, RagTemplate\n",
    "\n",
    "uri = \"bolt://localhost:7687\"\n",
    "driver = GraphDatabase.driver(uri, auth=(\"neo4j\", \"auror2025\"))\n",
    "\n",
    "api_key = \"ollama\"\n",
    "\n",
    "embedder = OpenAIEmbeddings(\n",
    "    base_url=\"http://localhost:11434/v1\",\n",
    "    api_key=api_key,\n",
    "    model=\"snowflake-arctic-embed:latest\",\n",
    ")\n",
    "\n",
    "llm = OpenAILLM(\n",
    "    base_url=\"http://localhost:11434/v1\",\n",
    "    model_name=\"llama3\",\n",
    "    api_key=api_key,\n",
    "    model_params={\"temperature\": 0}\n",
    ")"
   ]
  },
  {
   "cell_type": "code",
   "execution_count": 2,
   "metadata": {},
   "outputs": [],
   "source": [
    "FULLTEXT_INDEX_NAME = \"fulltext_index\"\n",
    "\n",
    "create_fulltext_index(\n",
    "    driver, FULLTEXT_INDEX_NAME, label=\"Pokemon\", node_properties=[\"description\"]\n",
    ")"
   ]
  },
  {
   "cell_type": "code",
   "execution_count": 3,
   "metadata": {},
   "outputs": [],
   "source": [
    "INDEX_NAME = \"vector_index\"\n",
    "DIMENSION = 1024\n",
    "\n",
    "drop_index_if_exists(driver,INDEX_NAME,)\n",
    "\n",
    "create_vector_index(\n",
    "    driver,\n",
    "    INDEX_NAME,\n",
    "    label=\"Pokemon\",\n",
    "    embedding_property=\"vector_property\",\n",
    "    dimensions=DIMENSION,\n",
    "    similarity_fn=\"cosine\",\n",
    ")"
   ]
  },
  {
   "cell_type": "code",
   "execution_count": 4,
   "metadata": {},
   "outputs": [
    {
     "name": "stdout",
     "output_type": "stream",
     "text": [
      "Content: {'description': '{\"Pokemon\":\"Pikachu\",\"Type\":\"Electric\",\"Species\":\"Mouse Pok\\\\u00e9mon\",\"Height\":0.4,\"Weight\":6.0,\"Abilities\":\"1. Static, Lightning Rod (hidden ability)\",\"EV Yield\":\"2 Speed\",\"Catch Rate\":\"190 (24.8% with Pok\\\\u00e9Ball, full HP)\",\"Base Friendship\":\"50 (normal)\",\"Base Exp\":\"112\",\"Growth Rate\":\"Medium Fast\",\"Egg Groups\":\"Fairy, Field\",\"Gender\":\"50% male, 50% female\",\"Egg Cycles\":\"10 (2,314\\\\u20132,570 steps)\",\"HP Base\":35,\"HP Min\":180,\"HP Max\":274,\"Attack Base\":55,\"Attack Min\":103,\"Attack Max\":229,\"Defense Base\":40,\"Defense Min\":76,\"Defense Max\":196,\"Special Attack Base\":50,\"Special Attack Min\":94,\"Special Attack Max\":218,\"Special Defense Base\":50,\"Special Defense Min\":94,\"Special Defense Max\":218,\"Speed Base\":90,\"Speed Min\":166,\"Speed Max\":306}', 'name': 'Pikachu'}\n",
      "Metadata: {'score': 0.8129379749298096, 'nodeLabels': ['Pokemon'], 'id': '4:033ff842-49a3-48fd-9efc-e66bd586e692:782'}\n",
      "Content: {'description': '{\"Pokemon\":\"Partner Pikachu\",\"Type\":\"Electric\",\"Species\":\"Mouse Pok\\\\u00e9mon\",\"Height\":0.4,\"Weight\":6.0,\"Abilities\":\"\\\\u2014\",\"EV Yield\":\"2 Speed\",\"Catch Rate\":\"190 (24.8% with Pok\\\\u00e9Ball, full HP)\",\"Base Friendship\":\"50 (normal)\",\"Base Exp\":\"112\",\"Growth Rate\":\"Medium Fast\",\"Egg Groups\":\"\\\\u2014\",\"Gender\":\"50% male, 50% female\",\"Egg Cycles\":\"10 (2,314\\\\u20132,570 steps)\",\"HP Base\":45,\"HP Min\":200,\"HP Max\":294,\"Attack Base\":80,\"Attack Min\":148,\"Attack Max\":284,\"Defense Base\":50,\"Defense Min\":94,\"Defense Max\":218,\"Special Attack Base\":75,\"Special Attack Min\":139,\"Special Attack Max\":273,\"Special Defense Base\":60,\"Special Defense Min\":112,\"Special Defense Max\":240,\"Speed Base\":120,\"Speed Min\":220,\"Speed Max\":372}', 'name': 'Partner Pikachu'}\n",
      "Metadata: {'score': 0.8098399639129639, 'nodeLabels': ['Pokemon'], 'id': '4:033ff842-49a3-48fd-9efc-e66bd586e692:783'}\n",
      "Content: {'description': '{\"Pokemon\":\"Pidgeot\",\"Type\":\"Normal, Flying\",\"Species\":\"Bird Pok\\\\u00e9mon\",\"Height\":1.5,\"Weight\":39.5,\"Abilities\":\"1. Keen Eye, 2. Tangled Feet, Big Pecks (hidden ability)\",\"EV Yield\":\"3 Speed\",\"Catch Rate\":\"45 (5.9% with Pok\\\\u00e9Ball, full HP)\",\"Base Friendship\":\"50 (normal)\",\"Base Exp\":\"216\",\"Growth Rate\":\"Medium Slow\",\"Egg Groups\":\"Flying\",\"Gender\":\"50% male, 50% female\",\"Egg Cycles\":\"15 (3,599\\\\u20133,855 steps)\",\"HP Base\":83,\"HP Min\":276,\"HP Max\":370,\"Attack Base\":80,\"Attack Min\":148,\"Attack Max\":284,\"Defense Base\":75,\"Defense Min\":139,\"Defense Max\":273,\"Special Attack Base\":70,\"Special Attack Min\":130,\"Special Attack Max\":262,\"Special Defense Base\":70,\"Special Defense Min\":130,\"Special Defense Max\":262,\"Speed Base\":101,\"Speed Min\":186,\"Speed Max\":331}', 'name': 'Pidgeot'}\n",
      "Metadata: {'score': 0.8029215335845947, 'nodeLabels': ['Pokemon'], 'id': '4:033ff842-49a3-48fd-9efc-e66bd586e692:776'}\n",
      "The type and species of Pikachu are \"Electric\" and \"Mouse Pokémon\", respectively.\n"
     ]
    }
   ],
   "source": [
    "retriever = VectorRetriever(\n",
    "    driver,\n",
    "    index_name=\"vector_index\",\n",
    "    embedder=embedder,\n",
    "    return_properties=[\"name\", \"description\"],\n",
    ")\n",
    "\n",
    "query_text = \"What is the type and Species of Pikachu\"\n",
    "retriever_result = retriever.search(query_text=query_text, top_k=3)\n",
    "\n",
    "for item in retriever_result.items:\n",
    "    print(f\"Content: {item.content}\")\n",
    "    print(f\"Metadata: {item.metadata}\")\n",
    "\n",
    "rag = GraphRAG(retriever=retriever, llm=llm)\n",
    "\n",
    "response = rag.search(query_text=query_text, retriever_config={\"top_k\": 5})\n",
    "\n",
    "print(response.answer)"
   ]
  },
  {
   "cell_type": "code",
   "execution_count": 5,
   "metadata": {},
   "outputs": [
    {
     "name": "stdout",
     "output_type": "stream",
     "text": [
      "Content: <Record pokemon_name='Pikachu' pokemon_description='{\"Pokemon\":\"Pikachu\",\"Type\":\"Electric\",\"Species\":\"Mouse Pok\\\\u00e9mon\",\"Height\":0.4,\"Weight\":6.0,\"Abilities\":\"1. Static, Lightning Rod (hidden ability)\",\"EV Yield\":\"2 Speed\",\"Catch Rate\":\"190 (24.8% with Pok\\\\u00e9Ball, full HP)\",\"Base Friendship\":\"50 (normal)\",\"Base Exp\":\"112\",\"Growth Rate\":\"Medium Fast\",\"Egg Groups\":\"Fairy, Field\",\"Gender\":\"50% male, 50% female\",\"Egg Cycles\":\"10 (2,314\\\\u20132,570 steps)\",\"HP Base\":35,\"HP Min\":180,\"HP Max\":274,\"Attack Base\":55,\"Attack Min\":103,\"Attack Max\":229,\"Defense Base\":40,\"Defense Min\":76,\"Defense Max\":196,\"Special Attack Base\":50,\"Special Attack Min\":94,\"Special Attack Max\":218,\"Special Defense Base\":50,\"Special Defense Min\":94,\"Special Defense Max\":218,\"Speed Base\":90,\"Speed Min\":166,\"Speed Max\":306}' types=['Mouse']>\n",
      "Metadata: None\n",
      "Content: <Record pokemon_name='Partner Pikachu' pokemon_description='{\"Pokemon\":\"Partner Pikachu\",\"Type\":\"Electric\",\"Species\":\"Mouse Pok\\\\u00e9mon\",\"Height\":0.4,\"Weight\":6.0,\"Abilities\":\"\\\\u2014\",\"EV Yield\":\"2 Speed\",\"Catch Rate\":\"190 (24.8% with Pok\\\\u00e9Ball, full HP)\",\"Base Friendship\":\"50 (normal)\",\"Base Exp\":\"112\",\"Growth Rate\":\"Medium Fast\",\"Egg Groups\":\"\\\\u2014\",\"Gender\":\"50% male, 50% female\",\"Egg Cycles\":\"10 (2,314\\\\u20132,570 steps)\",\"HP Base\":45,\"HP Min\":200,\"HP Max\":294,\"Attack Base\":80,\"Attack Min\":148,\"Attack Max\":284,\"Defense Base\":50,\"Defense Min\":94,\"Defense Max\":218,\"Special Attack Base\":75,\"Special Attack Min\":139,\"Special Attack Max\":273,\"Special Defense Base\":60,\"Special Defense Min\":112,\"Special Defense Max\":240,\"Speed Base\":120,\"Speed Min\":220,\"Speed Max\":372}' types=['Mouse']>\n",
      "Metadata: None\n",
      "Content: <Record pokemon_name='Type: Null' pokemon_description='{\"Pokemon\":\"Type: Null\",\"Type\":\"Normal\",\"Species\":\"Synthetic Pok\\\\u00e9mon\",\"Height\":1.9,\"Weight\":120.5,\"Abilities\":\"1. Battle Armor\",\"EV Yield\":\"2 HP\",\"Catch Rate\":\"3 (0.4% with Pok\\\\u00e9Ball, full HP)\",\"Base Friendship\":\"0 (lower than normal)\",\"Base Exp\":\"107\",\"Growth Rate\":\"Slow\",\"Egg Groups\":\"Undiscovered\",\"Gender\":\"Genderless\",\"Egg Cycles\":\"120 (30,584\\\\u201330,840 steps)\",\"HP Base\":95,\"HP Min\":300,\"HP Max\":394,\"Attack Base\":95,\"Attack Min\":175,\"Attack Max\":317,\"Defense Base\":95,\"Defense Min\":175,\"Defense Max\":317,\"Special Attack Base\":95,\"Special Attack Min\":175,\"Special Attack Max\":317,\"Special Defense Base\":95,\"Special Defense Min\":175,\"Special Defense Max\":317,\"Speed Base\":59,\"Speed Min\":110,\"Speed Max\":238}' types=['Synthetic']>\n",
      "Metadata: None\n",
      "Content: <Record pokemon_name='Yungoos' pokemon_description='{\"Pokemon\":\"Yungoos\",\"Type\":\"Normal\",\"Species\":\"Loitering Pok\\\\u00e9mon\",\"Height\":0.4,\"Weight\":6.0,\"Abilities\":\"1. Strong Jaw, 2. Stakeout, Adaptability (hidden ability)\",\"EV Yield\":\"1 Attack\",\"Catch Rate\":\"255 (33.3% with Pok\\\\u00e9Ball, full HP)\",\"Base Friendship\":\"50 (normal)\",\"Base Exp\":\"51\",\"Growth Rate\":\"Medium Fast\",\"Egg Groups\":\"Field\",\"Gender\":\"50% male, 50% female\",\"Egg Cycles\":\"15 (3,599\\\\u20133,855 steps)\",\"HP Base\":48,\"HP Min\":206,\"HP Max\":300,\"Attack Base\":70,\"Attack Min\":130,\"Attack Max\":262,\"Defense Base\":30,\"Defense Min\":58,\"Defense Max\":174,\"Special Attack Base\":30,\"Special Attack Min\":58,\"Special Attack Max\":174,\"Special Defense Base\":30,\"Special Defense Min\":58,\"Special Defense Max\":174,\"Speed Base\":45,\"Speed Min\":85,\"Speed Max\":207}' types=['Loitering']>\n",
      "Metadata: None\n",
      "Content: <Record pokemon_name='Castform' pokemon_description='{\"Pokemon\":\"Castform\",\"Type\":\"Normal\",\"Species\":\"Weather Pok\\\\u00e9mon\",\"Height\":0.3,\"Weight\":0.8,\"Abilities\":\"1. Forecast\",\"EV Yield\":\"1 HP\",\"Catch Rate\":\"45 (5.9% with Pok\\\\u00e9Ball, full HP)\",\"Base Friendship\":\"50 (normal)\",\"Base Exp\":\"147\",\"Growth Rate\":\"Medium Fast\",\"Egg Groups\":\"Amorphous, Fairy\",\"Gender\":\"50% male, 50% female\",\"Egg Cycles\":\"25 (6,169\\\\u20136,425 steps)\",\"HP Base\":70,\"HP Min\":250,\"HP Max\":344,\"Attack Base\":70,\"Attack Min\":130,\"Attack Max\":262,\"Defense Base\":70,\"Defense Min\":130,\"Defense Max\":262,\"Special Attack Base\":70,\"Special Attack Min\":130,\"Special Attack Max\":262,\"Special Defense Base\":70,\"Special Defense Min\":130,\"Special Defense Max\":262,\"Speed Base\":70,\"Speed Min\":130,\"Speed Max\":262}' types=['Weather']>\n",
      "Metadata: None\n",
      "Based on the provided context, the Pokémon that have a height of 0.4 meters and a weight of 6.0 kilograms are:\n",
      "\n",
      "1. Pikachu\n",
      "2. Partner Pikachu\n",
      "3. Yungoos\n",
      "\n",
      "These three Pokémon share the same height and weight specifications.\n"
     ]
    }
   ],
   "source": [
    "retrieval_query = \"\"\"\n",
    "    MATCH (s:Species)<-[:BELONGS_TO]-(node)\n",
    "    RETURN\n",
    "        node.name AS pokemon_name,\n",
    "        node.description AS pokemon_description, \n",
    "    collect(s.name) AS types;\n",
    "\"\"\"\n",
    "\n",
    "# retrieval_query2 = \"\"\" \n",
    "# MATCH (s:Species)<-[:BELONGS_TO]-(node)-[:HAS_TYPE]->(t:Type) \n",
    "# return node.name as pokemon_name, node.description, collect(s.name) as species, collect(t.name) as types\n",
    "# \"\"\"\n",
    "\n",
    "\n",
    "template = RagTemplate(\n",
    "    template=\"\"\"You are an expert in pokemons. Your task is to\n",
    "    answer the user's question based on the provided context. Use only the\n",
    "    information within that context.\n",
    "\n",
    "    Context:\n",
    "    {context}\n",
    "\n",
    "    Examples:\n",
    "    {examples}\n",
    "\n",
    "    Question:\n",
    "    {query_text}\n",
    "\n",
    "    Answer:\n",
    "    \"\"\"\n",
    ")\n",
    "\n",
    "retriever = HybridCypherRetriever(\n",
    "    driver,\n",
    "    vector_index_name=\"vector_index\",\n",
    "    fulltext_index_name=\"fulltext_index\",\n",
    "    retrieval_query=retrieval_query,\n",
    "    embedder=embedder\n",
    ")\n",
    "\n",
    "query_text = \"\"\"which pokemons has height is 0.4 m and weight 6.0 kg\"\"\"\n",
    "\n",
    "retriever_result = retriever.search(query_text=query_text, top_k=5)\n",
    "for item in retriever_result.items:\n",
    "    print(f\"Content: {item.content}\")\n",
    "    print(f\"Metadata: {item.metadata}\")\n",
    "\n",
    "# Initialize the RAG pipeline\n",
    "rag = GraphRAG(retriever=retriever, llm=llm, prompt_template=template)\n",
    "response = rag.search(query_text=query_text, retriever_config={\"top_k\": 5}, return_context=True)\n",
    "print(response.answer)"
   ]
  },
  {
   "cell_type": "code",
   "execution_count": 6,
   "metadata": {},
   "outputs": [
    {
     "name": "stdout",
     "output_type": "stream",
     "text": [
      "items=[RetrieverResultItem(content='<Record pokemon_name=\\'Pikachu\\' pokemon_description=\\'{\"Pokemon\":\"Pikachu\",\"Type\":\"Electric\",\"Species\":\"Mouse Pok\\\\\\\\u00e9mon\",\"Height\":0.4,\"Weight\":6.0,\"Abilities\":\"1. Static, Lightning Rod (hidden ability)\",\"EV Yield\":\"2 Speed\",\"Catch Rate\":\"190 (24.8% with Pok\\\\\\\\u00e9Ball, full HP)\",\"Base Friendship\":\"50 (normal)\",\"Base Exp\":\"112\",\"Growth Rate\":\"Medium Fast\",\"Egg Groups\":\"Fairy, Field\",\"Gender\":\"50% male, 50% female\",\"Egg Cycles\":\"10 (2,314\\\\\\\\u20132,570 steps)\",\"HP Base\":35,\"HP Min\":180,\"HP Max\":274,\"Attack Base\":55,\"Attack Min\":103,\"Attack Max\":229,\"Defense Base\":40,\"Defense Min\":76,\"Defense Max\":196,\"Special Attack Base\":50,\"Special Attack Min\":94,\"Special Attack Max\":218,\"Special Defense Base\":50,\"Special Defense Min\":94,\"Special Defense Max\":218,\"Speed Base\":90,\"Speed Min\":166,\"Speed Max\":306}\\' types=[\\'Mouse\\']>', metadata=None), RetrieverResultItem(content='<Record pokemon_name=\\'Castform Snowy Form\\' pokemon_description=\\'{\"Pokemon\":\"Castform Snowy Form\",\"Type\":\"Ice\",\"Species\":\"Weather Pok\\\\\\\\u00e9mon\",\"Height\":0.3,\"Weight\":0.8,\"Abilities\":\"1. Forecast\",\"EV Yield\":\"1 HP\",\"Catch Rate\":\"45 (5.9% with Pok\\\\\\\\u00e9Ball, full HP)\",\"Base Friendship\":\"50 (normal)\",\"Base Exp\":\"147\",\"Growth Rate\":\"Medium Fast\",\"Egg Groups\":\"Amorphous, Fairy\",\"Gender\":\"50% male, 50% female\",\"Egg Cycles\":\"25 (6,169\\\\\\\\u20136,425 steps)\",\"HP Base\":70,\"HP Min\":250,\"HP Max\":344,\"Attack Base\":70,\"Attack Min\":130,\"Attack Max\":262,\"Defense Base\":70,\"Defense Min\":130,\"Defense Max\":262,\"Special Attack Base\":70,\"Special Attack Min\":130,\"Special Attack Max\":262,\"Special Defense Base\":70,\"Special Defense Min\":130,\"Special Defense Max\":262,\"Speed Base\":70,\"Speed Min\":130,\"Speed Max\":262}\\' types=[\\'Weather\\']>', metadata=None), RetrieverResultItem(content='<Record pokemon_name=\\'Partner Pikachu\\' pokemon_description=\\'{\"Pokemon\":\"Partner Pikachu\",\"Type\":\"Electric\",\"Species\":\"Mouse Pok\\\\\\\\u00e9mon\",\"Height\":0.4,\"Weight\":6.0,\"Abilities\":\"\\\\\\\\u2014\",\"EV Yield\":\"2 Speed\",\"Catch Rate\":\"190 (24.8% with Pok\\\\\\\\u00e9Ball, full HP)\",\"Base Friendship\":\"50 (normal)\",\"Base Exp\":\"112\",\"Growth Rate\":\"Medium Fast\",\"Egg Groups\":\"\\\\\\\\u2014\",\"Gender\":\"50% male, 50% female\",\"Egg Cycles\":\"10 (2,314\\\\\\\\u20132,570 steps)\",\"HP Base\":45,\"HP Min\":200,\"HP Max\":294,\"Attack Base\":80,\"Attack Min\":148,\"Attack Max\":284,\"Defense Base\":50,\"Defense Min\":94,\"Defense Max\":218,\"Special Attack Base\":75,\"Special Attack Min\":139,\"Special Attack Max\":273,\"Special Defense Base\":60,\"Special Defense Min\":112,\"Special Defense Max\":240,\"Speed Base\":120,\"Speed Min\":220,\"Speed Max\":372}\\' types=[\\'Mouse\\']>', metadata=None)] metadata={'__retriever': 'HybridCypherRetriever'}\n",
      "Based on the provided context, the Pokémon that has the same type and species as Pikachu is:\n",
      "\n",
      "* Partner Pikachu\n",
      "\n",
      "This is because both Pikachu and Partner Pikachu are Electric-type Mouse Pokémon.\n"
     ]
    }
   ],
   "source": [
    "query_text = \"List all pokemons that have the same type and species of Pikachu\"\n",
    "retriever_result = retriever.search(query_text=query_text, top_k=3)\n",
    "print(retriever_result)\n",
    "\n",
    "# Initialize the RAG pipeline\n",
    "rag = GraphRAG(retriever=retriever, llm=llm)\n",
    "response = rag.search(query_text=query_text, retriever_config={\"top_k\": 3})\n",
    "print(response.answer)"
   ]
  },
  {
   "cell_type": "code",
   "execution_count": null,
   "metadata": {},
   "outputs": [],
   "source": []
  }
 ],
 "metadata": {
  "kernelspec": {
   "display_name": ".venv",
   "language": "python",
   "name": "python3"
  },
  "language_info": {
   "codemirror_mode": {
    "name": "ipython",
    "version": 3
   },
   "file_extension": ".py",
   "mimetype": "text/x-python",
   "name": "python",
   "nbconvert_exporter": "python",
   "pygments_lexer": "ipython3",
   "version": "3.10.15"
  }
 },
 "nbformat": 4,
 "nbformat_minor": 2
}
